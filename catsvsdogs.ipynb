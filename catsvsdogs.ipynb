{
 "cells": [
  {
   "cell_type": "markdown",
   "metadata": {},
   "source": [
    "## Image classification with Convolutional Neural Networks"
   ]
  },
  {
   "cell_type": "markdown",
   "metadata": {},
   "source": [
    "Welcome to the first week of the second deep learning certificate! We're going to use convolutional neural networks (CNNs) to allow our computer to see - something that is only possible thanks to deep learning."
   ]
  },
  {
   "cell_type": "markdown",
   "metadata": {},
   "source": [
    "## Introduction to our first task: 'Dogs vs Cats'"
   ]
  },
  {
   "cell_type": "markdown",
   "metadata": {},
   "source": [
    "We're going to try to create a model to enter the Dogs vs Cats competition at Kaggle. There are 25,000 labelled dog and cat photos available for training, and 12,500 in the test set that we have to try to label for this competition. According to the Kaggle web-site, when this competition was launched (end of 2013): \"State of the art: The current literature suggests machine classifiers can score above 80% accuracy on this task\". So if we can beat 80%, then we will be at the cutting edge as of 2013!"
   ]
  },
  {
   "cell_type": "code",
   "execution_count": 1,
   "metadata": {},
   "outputs": [],
   "source": [
    "# Put these at the top of every notebook, to get automatic reloading and inline plotting\n",
    "%reload_ext autoreload\n",
    "%autoreload 2\n",
    "%matplotlib inline"
   ]
  },
  {
   "cell_type": "markdown",
   "metadata": {},
   "source": [
    "Here we import the libraries we need. We'll learn about what each does during the course."
   ]
  },
  {
   "cell_type": "code",
   "execution_count": 2,
   "metadata": {},
   "outputs": [],
   "source": [
    "# This file contains all the main external libs we'll use\n",
    "from fastai.imports import *"
   ]
  },
  {
   "cell_type": "code",
   "execution_count": 4,
   "metadata": {},
   "outputs": [],
   "source": [
    "from fastai.transforms import *\n",
    "from fastai.conv_learner import *\n",
    "from fastai.model import *\n",
    "from fastai.dataset import *\n",
    "from fastai.sgdr import *\n",
    "from fastai.plots import *"
   ]
  },
  {
   "cell_type": "markdown",
   "metadata": {},
   "source": [
    "`PATH` is the path to your data - if you use the recommended setup approaches from the lesson, you won't need to change this. `sz` is the size that the images will be resized to in order to ensure that the training runs quickly. We'll be talking about this parameter a lot during the course. Leave it at `224` for now."
   ]
  },
  {
   "cell_type": "code",
   "execution_count": 3,
   "metadata": {},
   "outputs": [],
   "source": [
    "PATH = \"/media/varad/ESSENTIAL/Varad/STUDY/SEM_8/dogscats/\"\n",
    "sz=100   # size = 224 is not supported in this PC"
   ]
  },
  {
   "cell_type": "markdown",
   "metadata": {},
   "source": [
    "It's important that you have a working NVidia GPU set up. The programming framework used to behind the scenes to work with NVidia GPUs is called CUDA. Therefore, you need to ensure the following line returns `True` before you proceed. If you have problems with this, please check the FAQ and ask for help on [the forums](http://forums.fast.ai)."
   ]
  },
  {
   "cell_type": "code",
   "execution_count": 5,
   "metadata": {},
   "outputs": [
    {
     "data": {
      "text/plain": [
       "True"
      ]
     },
     "execution_count": 5,
     "metadata": {},
     "output_type": "execute_result"
    }
   ],
   "source": [
    "torch.cuda.is_available()"
   ]
  },
  {
   "cell_type": "markdown",
   "metadata": {},
   "source": [
    "In addition, NVidia provides special accelerated functions for deep learning in a package called CuDNN. Although not strictly necessary, it will improve training performance significantly, and is included by default in all supported fastai configurations. Therefore, if the following does not return `True`, you may want to look into why."
   ]
  },
  {
   "cell_type": "code",
   "execution_count": 6,
   "metadata": {},
   "outputs": [
    {
     "data": {
      "text/plain": [
       "True"
      ]
     },
     "execution_count": 6,
     "metadata": {},
     "output_type": "execute_result"
    }
   ],
   "source": [
    "torch.backends.cudnn.enabled"
   ]
  },
  {
   "cell_type": "markdown",
   "metadata": {
    "heading_collapsed": true
   },
   "source": [
    "### Extra steps if NOT using Crestle or Paperspace or our scripts"
   ]
  },
  {
   "cell_type": "markdown",
   "metadata": {
    "hidden": true
   },
   "source": [
    "The dataset is available at http://files.fast.ai/data/dogscats.zip. You can download it directly on your server by running the following line in your terminal. `wget http://files.fast.ai/data/dogscats.zip`. You should put the data in a subdirectory of this notebook's directory, called `data/`. Note that this data is already available in Crestle and the Paperspace fast.ai template."
   ]
  },
  {
   "cell_type": "markdown",
   "metadata": {
    "heading_collapsed": true
   },
   "source": [
    "### Extra steps if using Crestle"
   ]
  },
  {
   "cell_type": "markdown",
   "metadata": {
    "hidden": true
   },
   "source": [
    "Crestle has the datasets required for fast.ai in /datasets, so we'll create symlinks to the data we want for this competition. (NB: we can't write to /datasets, but we need a place to store temporary files, so we create our own writable directory to put the symlinks in, and we also take advantage of Crestle's `/cache/` faster temporary storage space.)\n",
    "\n",
    "To run these commands (**which you should only do if using Crestle**) remove the `#` characters from the start of each line."
   ]
  },
  {
   "cell_type": "code",
   "execution_count": null,
   "metadata": {
    "hidden": true
   },
   "outputs": [],
   "source": [
    "# os.makedirs('data/dogscats/models', exist_ok=True)\n",
    "\n",
    "# !ln -s /datasets/fast.ai/dogscats/train {PATH}\n",
    "# !ln -s /datasets/fast.ai/dogscats/test {PATH}\n",
    "# !ln -s /datasets/fast.ai/dogscats/valid {PATH}\n",
    "\n",
    "# os.makedirs('/cache/tmp', exist_ok=True)\n",
    "# !ln -fs /cache/tmp {PATH}"
   ]
  },
  {
   "cell_type": "code",
   "execution_count": null,
   "metadata": {
    "hidden": true
   },
   "outputs": [],
   "source": [
    "# os.makedirs('/cache/tmp', exist_ok=True)\n",
    "# !ln -fs /cache/tmp {PATH}"
   ]
  },
  {
   "cell_type": "markdown",
   "metadata": {
    "heading_collapsed": true
   },
   "source": [
    "## First look at cat pictures"
   ]
  },
  {
   "cell_type": "markdown",
   "metadata": {
    "hidden": true
   },
   "source": [
    "Our library will assume that you have **train** and **valid** directories. It also assumes that each dir will have subdirs for each class you wish to recognize (in this case, 'cats' and 'dogs')."
   ]
  },
  {
   "cell_type": "code",
   "execution_count": 7,
   "metadata": {
    "hidden": true,
    "scrolled": true
   },
   "outputs": [
    {
     "data": {
      "text/plain": [
       "['models', 'sample', 'test1', 'tmp', 'train', 'valid']"
      ]
     },
     "execution_count": 7,
     "metadata": {},
     "output_type": "execute_result"
    }
   ],
   "source": [
    "os.listdir(PATH)  # path = \"/media/varad/ESSENTIAL/Varad/STUDY/SEM_8/dogscats/\""
   ]
  },
  {
   "cell_type": "code",
   "execution_count": 8,
   "metadata": {
    "hidden": true
   },
   "outputs": [
    {
     "data": {
      "text/plain": [
       "['cats', 'dogs']"
      ]
     },
     "execution_count": 8,
     "metadata": {},
     "output_type": "execute_result"
    }
   ],
   "source": [
    "os.listdir(f'{PATH}valid')"
   ]
  },
  {
   "cell_type": "code",
   "execution_count": 5,
   "metadata": {
    "hidden": true
   },
   "outputs": [
    {
     "data": {
      "text/plain": [
       "['cat.4324.jpg',\n",
       " 'cat.1001.jpg',\n",
       " 'cat.10016.jpg',\n",
       " 'cat.10026.jpg',\n",
       " 'cat.10048.jpg',\n",
       " 'cat.10050.jpg',\n",
       " 'cat.10064.jpg']"
      ]
     },
     "execution_count": 5,
     "metadata": {},
     "output_type": "execute_result"
    }
   ],
   "source": [
    "files = os.listdir(f'{PATH}valid/cats')[:7]\n",
    "files"
   ]
  },
  {
   "cell_type": "code",
   "execution_count": 6,
   "metadata": {
    "hidden": true
   },
   "outputs": [
    {
     "data": {
      "image/png": "[encoded data removed]",
      "text/plain": [
       "<Figure size 432x288 with 1 Axes>"
      ]
     },
     "metadata": {},
     "output_type": "display_data"
    }
   ],
   "source": [
    "img = plt.imread(f'{PATH}valid/cats/{files[0]}')\n",
    "plt.imshow(img);"
   ]
  },
  {
   "cell_type": "markdown",
   "metadata": {
    "hidden": true
   },
   "source": [
    "Here is how the raw data looks like"
   ]
  },
  {
   "cell_type": "code",
   "execution_count": 17,
   "metadata": {
    "hidden": true
   },
   "outputs": [
    {
     "data": {
      "text/plain": [
       "(394, 499, 3)"
      ]
     },
     "execution_count": 17,
     "metadata": {},
     "output_type": "execute_result"
    }
   ],
   "source": [
    "img.shape   # right now, image size is not converted into 'sz' size that we have previously described"
   ]
  },
  {
   "cell_type": "code",
   "execution_count": 18,
   "metadata": {
    "hidden": true
   },
   "outputs": [
    {
     "data": {
      "text/plain": [
       "array([[[29, 23, 23],\n",
       "        [29, 23, 23],\n",
       "        [29, 23, 23],\n",
       "        [29, 23, 23]],\n",
       "\n",
       "       [[30, 24, 24],\n",
       "        [30, 24, 24],\n",
       "        [30, 24, 24],\n",
       "        [30, 24, 24]],\n",
       "\n",
       "       [[31, 25, 25],\n",
       "        [31, 25, 25],\n",
       "        [31, 25, 25],\n",
       "        [31, 25, 25]],\n",
       "\n",
       "       [[31, 25, 25],\n",
       "        [31, 25, 25],\n",
       "        [31, 25, 25],\n",
       "        [31, 25, 25]]], dtype=uint8)"
      ]
     },
     "execution_count": 18,
     "metadata": {},
     "output_type": "execute_result"
    }
   ],
   "source": [
    "img[:4,:4]  # displaying first 4 rows and columns"
   ]
  },
  {
   "cell_type": "markdown",
   "metadata": {
    "heading_collapsed": true
   },
   "source": [
    "## Our first model: quick start"
   ]
  },
  {
   "cell_type": "markdown",
   "metadata": {
    "hidden": true
   },
   "source": [
    "We're going to use a <b>pre-trained</b> model, that is, a model created by some one else to solve a different problem. Instead of building a model from scratch to solve a similar problem, we'll use a model trained on ImageNet (1.2 million images and 1000 classes) as a starting point. The model is a Convolutional Neural Network (CNN), a type of Neural Network that builds state-of-the-art models for computer vision. We'll be learning all about CNNs during this course.\n",
    "\n",
    "We will be using the <b>resnet34</b> model. resnet34 is a version of the model that **won the 2015 ImageNet competition**. Here is more info on [resnet models](https://github.com/KaimingHe/deep-residual-networks). We'll be studying them in depth later, but for now we'll focus on using them effectively.\n",
    "\n",
    "Here's how to train and evalulate a *dogs vs cats* model in 3 lines of code, and under 20 seconds:"
   ]
  },
  {
   "cell_type": "code",
   "execution_count": null,
   "metadata": {},
   "outputs": [],
   "source": [
    "# Uncomment the below if you need to reset your precomputed activations\n",
    "# shutil.rmtree(f'{PATH}tmp', ignore_errors=True)"
   ]
  },
  {
   "cell_type": "code",
   "execution_count": null,
   "metadata": {},
   "outputs": [],
   "source": [
    "resnet34"
   ]
  },
  {
   "cell_type": "code",
   "execution_count": null,
   "metadata": {},
   "outputs": [],
   "source": []
  },
  {
   "cell_type": "code",
   "execution_count": 7,
   "metadata": {
    "hidden": true,
    "scrolled": false
   },
   "outputs": [
    {
     "name": "stderr",
     "output_type": "stream",
     "text": [
      "/home/varad/anaconda3/envs/fastai/lib/python3.6/site-packages/torch/cuda/__init__.py:116: UserWarning: \n",
      "    Found GPU0 GeForce 940MX which is of cuda capability 5.0.\n",
      "    PyTorch no longer supports this GPU because it is too old.\n",
      "    \n",
      "  warnings.warn(old_gpu_warn % (d, name, major, capability[1]))\n"
     ]
    },
    {
     "name": "stdout",
     "output_type": "stream",
     "text": [
      "100%|██████████| 360/360 [05:44<00:00,  1.04it/s]\n",
      "100%|██████████| 32/32 [00:31<00:00,  1.03it/s]\n"
     ]
    },
    {
     "data": {
      "application/vnd.jupyter.widget-view+json": {
       "model_id": "ff196583e3cd46b1a23a6d2e3825a064",
       "version_major": 2,
       "version_minor": 0
      },
      "text/html": [
       "<p>Failed to display Jupyter Widget of type <code>HBox</code>.</p>\n",
       "<p>\n",
       "  If you're reading this message in the Jupyter Notebook or JupyterLab Notebook, it may mean\n",
       "  that the widgets JavaScript is still loading. If this message persists, it\n",
       "  likely means that the widgets JavaScript library is either not installed or\n",
       "  not enabled. See the <a href=\"https://ipywidgets.readthedocs.io/en/stable/user_install.html\">Jupyter\n",
       "  Widgets Documentation</a> for setup instructions.\n",
       "</p>\n",
       "<p>\n",
       "  If you're reading this message in another frontend (for example, a static\n",
       "  rendering on GitHub or <a href=\"https://nbviewer.jupyter.org/\">NBViewer</a>),\n",
       "  it may mean that your frontend doesn't currently support widgets.\n",
       "</p>\n"
      ],
      "text/plain": [
       "HBox(children=(IntProgress(value=0, description='Epoch', max=2), HTML(value='')))"
      ]
     },
     "metadata": {},
     "output_type": "display_data"
    },
    {
     "name": "stdout",
     "output_type": "stream",
     "text": [
      "  0%|          | 0/360 [00:01<?, ?it/s, loss=1.0230\n",
      "  0%|          | 1/360 [00:01<10:46,  1.80s/it, loss=1.0230\n",
      "  0%|          | 1/360 [00:01<10:52,  1.82s/it, loss=0.9751\n",
      "  0%|          | 1/360 [00:01<10:59,  1.84s/it, loss=0.8938\n",
      "  0%|          | 1/360 [00:01<11:07,  1.86s/it, loss=0.7898\n",
      "  0%|          | 1/360 [00:01<11:14,  1.88s/it, loss=0.7585\n",
      "  0%|          | 1/360 [00:01<11:15,  1.88s/it, loss=0.7205\n",
      "  0%|          | 1/360 [00:01<11:18,  1.89s/it, loss=0.6685\n",
      "  0%|          | 1/360 [00:01<11:20,  1.89s/it, loss=0.6165\n",
      "[torch.cuda.FloatTensor of size () (GPU 0)]]"
     ]
    },
    {
     "name": "stderr",
     "output_type": "stream",
     "text": [
      "/media/varad/ESSENTIAL/Varad/STUDY/SEM_8/fastai/courses/dl1/fastai/model.py:49: UserWarning: invalid index of a 0-dim tensor. This will be an error in PyTorch 0.5. Use tensor.item() to convert a 0-dim tensor to a Python number\n",
      "  return raw_loss.data[0]\n"
     ]
    },
    {
     "name": "stdout",
     "output_type": "stream",
     "text": [
      "  0%|          | 1/360 [00:01<11:22,  1.90s/it, loss=0.5781\n",
      "  2%|▎         | 9/360 [00:01<01:14,  4.73it/s, loss=0.5781\n",
      "  2%|▎         | 9/360 [00:01<01:14,  4.72it/s, loss=0.5483\n",
      "  2%|▎         | 9/360 [00:01<01:14,  4.70it/s, loss=0.5138\n",
      "  2%|▎         | 9/360 [00:01<01:15,  4.67it/s, loss=0.4830\n",
      "  2%|▎         | 9/360 [00:01<01:15,  4.63it/s, loss=0.4526\n",
      "  2%|▎         | 9/360 [00:01<01:16,  4.61it/s, loss=0.4257\n",
      "  2%|▎         | 9/360 [00:01<01:16,  4.60it/s, loss=0.3970\n",
      "  2%|▎         | 9/360 [00:01<01:16,  4.56it/s, loss=0.3824\n",
      "  2%|▎         | 9/360 [00:01<01:17,  4.54it/s, loss=0.3610\n",
      "  2%|▎         | 9/360 [00:01<01:17,  4.52it/s, loss=0.3678\n",
      "  2%|▎         | 9/360 [00:02<01:18,  4.50it/s, loss=0.3743\n",
      "  2%|▎         | 9/360 [00:02<01:18,  4.47it/s, loss=0.3643\n",
      "  6%|▌         | 20/360 [00:02<00:34,  9.93it/s, loss=0.3643\n",
      "  6%|▌         | 20/360 [00:02<00:34,  9.90it/s, loss=0.3581\n",
      "  6%|▌         | 20/360 [00:02<00:34,  9.85it/s, loss=0.3451\n",
      "  6%|▌         | 20/360 [00:02<00:34,  9.81it/s, loss=0.3369\n",
      "  6%|▌         | 20/360 [00:02<00:34,  9.72it/s, loss=0.3286\n",
      "  6%|▌         | 20/360 [00:02<00:35,  9.68it/s, loss=0.3176\n",
      "  6%|▌         | 20/360 [00:02<00:35,  9.63it/s, loss=0.3100\n",
      "  6%|▌         | 20/360 [00:02<00:35,  9.56it/s, loss=0.3077\n",
      "  6%|▌         | 20/360 [00:02<00:35,  9.52it/s, loss=0.2986\n",
      "  6%|▌         | 20/360 [00:02<00:35,  9.45it/s, loss=0.2894\n",
      "  8%|▊         | 29/360 [00:02<00:24, 13.67it/s, loss=0.2894\n",
      "  8%|▊         | 29/360 [00:02<00:24, 13.61it/s, loss=0.2856\n",
      "  8%|▊         | 29/360 [00:02<00:24, 13.55it/s, loss=0.2829\n",
      "  8%|▊         | 29/360 [00:02<00:24, 13.50it/s, loss=0.2743\n",
      "  8%|▊         | 29/360 [00:02<00:24, 13.37it/s, loss=0.2693\n",
      "  8%|▊         | 29/360 [00:02<00:24, 13.32it/s, loss=0.2678\n",
      "  8%|▊         | 29/360 [00:02<00:25, 13.23it/s, loss=0.2680\n",
      "  8%|▊         | 29/360 [00:02<00:25, 13.17it/s, loss=0.2607\n",
      "  8%|▊         | 29/360 [00:02<00:25, 13.11it/s, loss=0.2557\n",
      "  8%|▊         | 29/360 [00:02<00:25, 13.03it/s, loss=0.2615\n",
      " 11%|█         | 38/360 [00:02<00:18, 17.06it/s, loss=0.2615\n",
      " 11%|█         | 38/360 [00:02<00:18, 16.98it/s, loss=0.2549\n",
      " 11%|█         | 38/360 [00:02<00:19, 16.90it/s, loss=0.2491\n",
      " 11%|█         | 38/360 [00:02<00:19, 16.78it/s, loss=0.2484\n",
      " 11%|█         | 38/360 [00:02<00:19, 16.72it/s, loss=0.2451\n",
      " 11%|█         | 38/360 [00:02<00:19, 16.68it/s, loss=0.2419\n",
      " 11%|█         | 38/360 [00:02<00:19, 16.58it/s, loss=0.2360\n",
      " 11%|█         | 38/360 [00:02<00:19, 16.49it/s, loss=0.2318\n",
      " 11%|█         | 38/360 [00:02<00:19, 16.43it/s, loss=0.2330\n",
      " 11%|█         | 38/360 [00:02<00:19, 16.37it/s, loss=0.2461\n",
      " 11%|█         | 38/360 [00:02<00:19, 16.33it/s, loss=0.2429\n",
      " 13%|█▎        | 48/360 [00:02<00:15, 20.59it/s, loss=0.2429\n",
      " 13%|█▎        | 48/360 [00:02<00:15, 20.47it/s, loss=0.2386\n",
      " 13%|█▎        | 48/360 [00:02<00:15, 20.31it/s, loss=0.2372\n",
      " 13%|█▎        | 48/360 [00:02<00:15, 20.24it/s, loss=0.2336\n",
      " 13%|█▎        | 48/360 [00:02<00:15, 20.16it/s, loss=0.2330\n",
      " 13%|█▎        | 48/360 [00:02<00:15, 20.11it/s, loss=0.2313\n",
      " 13%|█▎        | 48/360 [00:02<00:15, 20.07it/s, loss=0.2262\n",
      " 13%|█▎        | 48/360 [00:02<00:15, 20.03it/s, loss=0.2240\n",
      " 13%|█▎        | 48/360 [00:02<00:15, 19.99it/s, loss=0.2219\n",
      " 13%|█▎        | 48/360 [00:02<00:15, 19.95it/s, loss=0.2185\n",
      " 13%|█▎        | 48/360 [00:02<00:15, 19.92it/s, loss=0.2153\n",
      " 13%|█▎        | 48/360 [00:02<00:15, 19.89it/s, loss=0.2116\n",
      " 13%|█▎        | 48/360 [00:02<00:15, 19.85it/s, loss=0.2110\n",
      " 13%|█▎        | 48/360 [00:02<00:15, 19.80it/s, loss=0.2079\n",
      " 13%|█▎        | 48/360 [00:02<00:15, 19.76it/s, loss=0.2050\n",
      " 13%|█▎        | 48/360 [00:02<00:15, 19.72it/s, loss=0.2047\n",
      " 18%|█▊        | 63/360 [00:02<00:11, 25.86it/s, loss=0.2047\n",
      " 18%|█▊        | 63/360 [00:02<00:11, 25.81it/s, loss=0.2037\n",
      " 18%|█▊        | 63/360 [00:02<00:11, 25.77it/s, loss=0.2023\n",
      " 18%|█▊        | 63/360 [00:02<00:11, 25.72it/s, loss=0.1992\n",
      " 18%|█▊        | 63/360 [00:02<00:11, 25.67it/s, loss=0.1985\n",
      " 18%|█▊        | 63/360 [00:02<00:11, 25.63it/s, loss=0.2002\n",
      " 18%|█▊        | 63/360 [00:02<00:11, 25.59it/s, loss=0.2005\n",
      " 18%|█▊        | 63/360 [00:02<00:11, 25.55it/s, loss=0.2002\n",
      " 18%|█▊        | 63/360 [00:02<00:11, 25.49it/s, loss=0.1960\n",
      " 18%|█▊        | 63/360 [00:02<00:11, 25.45it/s, loss=0.1979\n",
      " 18%|█▊        | 63/360 [00:02<00:11, 25.40it/s, loss=0.1956\n",
      " 18%|█▊        | 63/360 [00:02<00:11, 25.35it/s, loss=0.1950\n",
      " 18%|█▊        | 63/360 [00:02<00:11, 25.30it/s, loss=0.1955\n",
      " 18%|█▊        | 63/360 [00:02<00:11, 25.16it/s, loss=0.1948\n",
      " 18%|█▊        | 63/360 [00:02<00:11, 25.06it/s, loss=0.1942\n",
      " 18%|█▊        | 63/360 [00:02<00:11, 24.90it/s, loss=0.1942\n",
      " 18%|█▊        | 63/360 [00:02<00:11, 24.83it/s, loss=0.1936\n",
      " 22%|██▏       | 79/360 [00:02<00:09, 31.12it/s, loss=0.1936\n",
      " 22%|██▏       | 79/360 [00:02<00:09, 31.04it/s, loss=0.1929\n",
      " 22%|██▏       | 79/360 [00:02<00:09, 30.89it/s, loss=0.1909\n",
      " 22%|██▏       | 79/360 [00:02<00:09, 30.77it/s, loss=0.1898\n",
      " 22%|██▏       | 79/360 [00:02<00:09, 30.67it/s, loss=0.1871\n",
      " 22%|██▏       | 79/360 [00:02<00:09, 30.50it/s, loss=0.1847\n",
      " 22%|██▏       | 79/360 [00:02<00:09, 30.23it/s, loss=0.1822\n",
      " 22%|██▏       | 79/360 [00:02<00:09, 30.10it/s, loss=0.1807\n",
      " 22%|██▏       | 79/360 [00:02<00:09, 29.84it/s, loss=0.1793\n",
      " 22%|██▏       | 79/360 [00:02<00:09, 29.70it/s, loss=0.1769\n",
      " 22%|██▏       | 79/360 [00:02<00:09, 29.47it/s, loss=0.1759\n",
      " 22%|██▏       | 79/360 [00:02<00:09, 29.39it/s, loss=0.1761\n",
      " 22%|██▏       | 79/360 [00:02<00:09, 29.31it/s, loss=0.1760\n",
      " 25%|██▌       | 91/360 [00:02<00:07, 33.73it/s, loss=0.1760\n",
      " 25%|██▌       | 91/360 [00:02<00:08, 33.58it/s, loss=0.1734\n",
      " 25%|██▌       | 91/360 [00:02<00:08, 33.45it/s, loss=0.1719\n",
      " 25%|██▌       | 91/360 [00:02<00:08, 33.36it/s, loss=0.1775\n",
      " 25%|██▌       | 91/360 [00:02<00:08, 33.19it/s, loss=0.1765\n",
      " 25%|██▌       | 91/360 [00:02<00:08, 33.05it/s, loss=0.1758\n",
      " 25%|██▌       | 91/360 [00:02<00:08, 32.89it/s, loss=0.1790\n",
      " 25%|██▌       | 91/360 [00:02<00:08, 32.76it/s, loss=0.1784\n",
      " 25%|██▌       | 91/360 [00:02<00:08, 32.64it/s, loss=0.1757\n",
      " 25%|██▌       | 91/360 [00:02<00:08, 32.49it/s, loss=0.1765\n",
      " 25%|██▌       | 91/360 [00:02<00:08, 32.38it/s, loss=0.1737\n",
      " 25%|██▌       | 91/360 [00:02<00:08, 32.29it/s, loss=0.1740\n",
      " 28%|██▊       | 102/360 [00:02<00:07, 36.17it/s, loss=0.1740\n",
      " 28%|██▊       | 102/360 [00:02<00:07, 36.10it/s, loss=0.1725\n",
      " 28%|██▊       | 102/360 [00:02<00:07, 35.99it/s, loss=0.1700\n",
      " 28%|██▊       | 102/360 [00:02<00:07, 35.93it/s, loss=0.1689\n",
      " 28%|██▊       | 102/360 [00:02<00:07, 35.87it/s, loss=0.1658\n",
      " 28%|██▊       | 102/360 [00:02<00:07, 35.72it/s, loss=0.1647\n",
      " 28%|██▊       | 102/360 [00:02<00:07, 35.60it/s, loss=0.1687\n",
      " 28%|██▊       | 102/360 [00:02<00:07, 35.41it/s, loss=0.1662\n",
      " 28%|██▊       | 102/360 [00:02<00:07, 35.27it/s, loss=0.1680\n",
      " 28%|██▊       | 102/360 [00:02<00:07, 35.16it/s, loss=0.1662\n",
      " 28%|██▊       | 102/360 [00:02<00:07, 35.04it/s, loss=0.1666\n",
      " 28%|██▊       | 102/360 [00:02<00:07, 34.94it/s, loss=0.1673\n",
      " 31%|███▏      | 113/360 [00:02<00:06, 38.68it/s, loss=0.1673\n",
      " 31%|███▏      | 113/360 [00:02<00:06, 38.61it/s, loss=0.1667\n",
      " 31%|███▏      | 113/360 [00:02<00:06, 38.48it/s, loss=0.1673\n",
      " 31%|███▏      | 113/360 [00:02<00:06, 38.31it/s, loss=0.1671\n",
      " 31%|███▏      | 113/360 [00:02<00:06, 38.22it/s, loss=0.1684\n",
      " 31%|███▏      | 113/360 [00:02<00:06, 38.14it/s, loss=0.1662\n",
      " 31%|███▏      | 113/360 [00:02<00:06, 37.97it/s, loss=0.1669\n",
      " 31%|███▏      | 113/360 [00:02<00:06, 37.81it/s, loss=0.1664\n",
      " 31%|███▏      | 113/360 [00:03<00:06, 37.53it/s, loss=0.1672\n",
      " 31%|███▏      | 113/360 [00:03<00:06, 37.44it/s, loss=0.1650\n",
      " 31%|███▏      | 113/360 [00:03<00:06, 37.27it/s, loss=0.1634\n",
      " 31%|███▏      | 113/360 [00:03<00:06, 37.13it/s, loss=0.1631\n",
      " 34%|███▍      | 124/360 [00:03<00:05, 40.69it/s, loss=0.1631\n",
      " 34%|███▍      | 124/360 [00:03<00:05, 40.60it/s, loss=0.1627\n",
      " 34%|███▍      | 124/360 [00:03<00:05, 40.48it/s, loss=0.1619\n",
      " 34%|███▍      | 124/360 [00:03<00:05, 40.27it/s, loss=0.1612\n",
      " 34%|███▍      | 124/360 [00:03<00:05, 40.07it/s, loss=0.1602\n",
      " 34%|███▍      | 124/360 [00:03<00:05, 40.02it/s, loss=0.1608\n",
      " 34%|███▍      | 124/360 [00:03<00:05, 39.96it/s, loss=0.1598\n",
      " 34%|███▍      | 124/360 [00:03<00:05, 39.92it/s, loss=0.1575\n"
     ]
    },
    {
     "name": "stdout",
     "output_type": "stream",
     "text": [
      " 34%|███▍      | 124/360 [00:03<00:05, 39.87it/s, loss=0.1577\n",
      " 34%|███▍      | 124/360 [00:03<00:05, 39.82it/s, loss=0.1594\n",
      " 34%|███▍      | 124/360 [00:03<00:05, 39.67it/s, loss=0.1594\n",
      " 34%|███▍      | 124/360 [00:03<00:05, 39.46it/s, loss=0.1586\n",
      " 34%|███▍      | 124/360 [00:03<00:06, 39.33it/s, loss=0.1570\n",
      " 38%|███▊      | 136/360 [00:03<00:05, 43.09it/s, loss=0.1570\n",
      " 38%|███▊      | 136/360 [00:03<00:05, 42.93it/s, loss=0.1571\n",
      " 38%|███▊      | 136/360 [00:03<00:05, 42.79it/s, loss=0.1598\n",
      " 38%|███▊      | 136/360 [00:03<00:05, 42.74it/s, loss=0.1596\n",
      " 38%|███▊      | 136/360 [00:03<00:05, 42.67it/s, loss=0.1575\n",
      " 38%|███▊      | 136/360 [00:03<00:05, 42.61it/s, loss=0.1590\n",
      " 38%|███▊      | 136/360 [00:03<00:05, 42.55it/s, loss=0.1572\n",
      " 38%|███▊      | 136/360 [00:03<00:05, 42.50it/s, loss=0.1561\n",
      " 38%|███▊      | 136/360 [00:03<00:05, 42.44it/s, loss=0.1558\n",
      " 38%|███▊      | 136/360 [00:03<00:05, 42.38it/s, loss=0.1533\n",
      " 38%|███▊      | 136/360 [00:03<00:05, 42.33it/s, loss=0.1524\n",
      " 38%|███▊      | 136/360 [00:03<00:05, 42.14it/s, loss=0.1525\n",
      " 38%|███▊      | 136/360 [00:03<00:05, 42.01it/s, loss=0.1520\n",
      " 38%|███▊      | 136/360 [00:03<00:05, 41.87it/s, loss=0.1574\n",
      " 38%|███▊      | 136/360 [00:03<00:05, 41.74it/s, loss=0.1563\n",
      " 42%|████▏     | 150/360 [00:03<00:04, 46.02it/s, loss=0.1563\n",
      " 42%|████▏     | 150/360 [00:03<00:04, 45.97it/s, loss=0.1559\n",
      " 42%|████▏     | 150/360 [00:03<00:04, 45.91it/s, loss=0.1543\n",
      " 42%|████▏     | 150/360 [00:03<00:04, 45.85it/s, loss=0.1544\n",
      " 42%|████▏     | 150/360 [00:03<00:04, 45.79it/s, loss=0.1562\n",
      " 42%|████▏     | 150/360 [00:03<00:04, 45.73it/s, loss=0.1561\n",
      " 42%|████▏     | 150/360 [00:03<00:04, 45.67it/s, loss=0.1550\n",
      " 42%|████▏     | 150/360 [00:03<00:04, 45.59it/s, loss=0.1557\n",
      " 42%|████▏     | 150/360 [00:03<00:04, 45.44it/s, loss=0.1546\n",
      " 42%|████▏     | 150/360 [00:03<00:04, 45.36it/s, loss=0.1545\n",
      " 42%|████▏     | 150/360 [00:03<00:04, 45.20it/s, loss=0.1548\n",
      " 42%|████▏     | 150/360 [00:03<00:04, 45.03it/s, loss=0.1546\n",
      " 42%|████▏     | 150/360 [00:03<00:04, 44.97it/s, loss=0.1541\n",
      " 42%|████▏     | 150/360 [00:03<00:04, 44.91it/s, loss=0.1560\n",
      " 42%|████▏     | 150/360 [00:03<00:04, 44.85it/s, loss=0.1548\n",
      " 42%|████▏     | 150/360 [00:03<00:04, 44.79it/s, loss=0.1550\n",
      " 42%|████▏     | 150/360 [00:03<00:04, 44.72it/s, loss=0.1563\n",
      " 42%|████▏     | 150/360 [00:03<00:04, 44.64it/s, loss=0.1588\n",
      " 46%|████▋     | 167/360 [00:03<00:03, 49.68it/s, loss=0.1588\n",
      " 46%|████▋     | 167/360 [00:03<00:03, 49.62it/s, loss=0.1575\n",
      " 46%|████▋     | 167/360 [00:03<00:03, 49.51it/s, loss=0.1568\n",
      " 46%|████▋     | 167/360 [00:03<00:03, 49.44it/s, loss=0.1590\n",
      " 46%|████▋     | 167/360 [00:03<00:03, 49.37it/s, loss=0.1591\n",
      " 46%|████▋     | 167/360 [00:03<00:03, 49.30it/s, loss=0.1601\n",
      " 46%|████▋     | 167/360 [00:03<00:03, 49.24it/s, loss=0.1603\n",
      " 46%|████▋     | 167/360 [00:03<00:03, 49.18it/s, loss=0.1594\n",
      " 46%|████▋     | 167/360 [00:03<00:03, 49.11it/s, loss=0.1581\n",
      " 46%|████▋     | 167/360 [00:03<00:03, 48.69it/s, loss=0.1581\n",
      " 46%|████▋     | 167/360 [00:03<00:03, 48.46it/s, loss=0.1587\n",
      " 46%|████▋     | 167/360 [00:03<00:03, 48.36it/s, loss=0.1583\n",
      " 46%|████▋     | 167/360 [00:03<00:04, 48.21it/s, loss=0.1586\n",
      " 46%|████▋     | 167/360 [00:03<00:04, 47.95it/s, loss=0.1597\n",
      " 50%|█████     | 180/360 [00:03<00:03, 51.65it/s, loss=0.1597\n",
      " 50%|█████     | 180/360 [00:03<00:03, 51.48it/s, loss=0.1603\n",
      " 50%|█████     | 180/360 [00:03<00:03, 51.32it/s, loss=0.1580\n",
      " 50%|█████     | 180/360 [00:03<00:03, 51.19it/s, loss=0.1585\n",
      " 50%|█████     | 180/360 [00:03<00:03, 51.07it/s, loss=0.1575\n",
      " 50%|█████     | 180/360 [00:03<00:03, 50.94it/s, loss=0.1559\n",
      " 50%|█████     | 180/360 [00:03<00:03, 50.73it/s, loss=0.1567\n",
      " 50%|█████     | 180/360 [00:03<00:03, 50.58it/s, loss=0.1599\n",
      " 50%|█████     | 180/360 [00:03<00:03, 50.42it/s, loss=0.1601\n",
      " 50%|█████     | 180/360 [00:03<00:03, 50.28it/s, loss=0.1614\n",
      " 50%|█████     | 180/360 [00:03<00:03, 50.05it/s, loss=0.1592\n",
      " 50%|█████     | 180/360 [00:03<00:03, 49.88it/s, loss=0.1574\n",
      " 50%|█████     | 180/360 [00:03<00:03, 49.77it/s, loss=0.1569\n",
      " 50%|█████     | 180/360 [00:03<00:03, 49.64it/s, loss=0.1565\n",
      " 54%|█████▎    | 193/360 [00:03<00:03, 53.19it/s, loss=0.1565\n",
      " 54%|█████▎    | 193/360 [00:03<00:03, 53.10it/s, loss=0.1564\n",
      " 54%|█████▎    | 193/360 [00:03<00:03, 52.89it/s, loss=0.1558\n",
      " 54%|█████▎    | 193/360 [00:03<00:03, 52.82it/s, loss=0.1550\n",
      " 54%|█████▎    | 193/360 [00:03<00:03, 52.57it/s, loss=0.1528\n",
      " 54%|█████▎    | 193/360 [00:03<00:03, 52.42it/s, loss=0.1509\n",
      " 54%|█████▎    | 193/360 [00:03<00:03, 52.29it/s, loss=0.1515\n",
      " 54%|█████▎    | 193/360 [00:03<00:03, 52.15it/s, loss=0.1502\n",
      " 54%|█████▎    | 193/360 [00:03<00:03, 51.95it/s, loss=0.1482\n",
      " 54%|█████▎    | 193/360 [00:03<00:03, 51.79it/s, loss=0.1476\n",
      " 54%|█████▎    | 193/360 [00:03<00:03, 51.69it/s, loss=0.1463\n",
      " 54%|█████▎    | 193/360 [00:03<00:03, 51.59it/s, loss=0.1465\n",
      " 54%|█████▎    | 193/360 [00:03<00:03, 51.42it/s, loss=0.1460\n",
      " 57%|█████▋    | 205/360 [00:03<00:02, 54.58it/s, loss=0.1460\n",
      " 57%|█████▋    | 205/360 [00:03<00:02, 54.49it/s, loss=0.1453\n",
      " 57%|█████▋    | 205/360 [00:03<00:02, 54.30it/s, loss=0.1445\n",
      " 57%|█████▋    | 205/360 [00:03<00:02, 54.17it/s, loss=0.1454\n",
      " 57%|█████▋    | 205/360 [00:03<00:02, 53.94it/s, loss=0.1464\n",
      " 57%|█████▋    | 205/360 [00:03<00:02, 53.74it/s, loss=0.1471\n",
      " 57%|█████▋    | 205/360 [00:03<00:02, 53.63it/s, loss=0.1471\n",
      " 57%|█████▋    | 205/360 [00:03<00:02, 53.51it/s, loss=0.1472\n",
      " 57%|█████▋    | 205/360 [00:03<00:02, 53.35it/s, loss=0.1462\n",
      " 57%|█████▋    | 205/360 [00:03<00:02, 53.21it/s, loss=0.1469\n",
      " 57%|█████▋    | 205/360 [00:03<00:02, 53.06it/s, loss=0.1465\n",
      " 57%|█████▋    | 205/360 [00:03<00:02, 52.89it/s, loss=0.1461\n",
      " 60%|██████    | 216/360 [00:03<00:02, 55.70it/s, loss=0.1461\n",
      " 60%|██████    | 216/360 [00:03<00:02, 55.63it/s, loss=0.1448\n",
      " 60%|██████    | 216/360 [00:03<00:02, 55.55it/s, loss=0.1459\n",
      " 60%|██████    | 216/360 [00:03<00:02, 55.29it/s, loss=0.1459\n",
      " 60%|██████    | 216/360 [00:03<00:02, 55.10it/s, loss=0.1452\n",
      " 60%|██████    | 216/360 [00:03<00:02, 54.98it/s, loss=0.1454\n",
      " 60%|██████    | 216/360 [00:03<00:02, 54.84it/s, loss=0.1433\n",
      " 60%|██████    | 216/360 [00:03<00:02, 54.67it/s, loss=0.1433\n",
      " 60%|██████    | 216/360 [00:03<00:02, 54.52it/s, loss=0.1433\n",
      " 60%|██████    | 216/360 [00:03<00:02, 54.38it/s, loss=0.1431\n",
      " 60%|██████    | 216/360 [00:03<00:02, 54.27it/s, loss=0.1435\n",
      " 60%|██████    | 216/360 [00:03<00:02, 54.13it/s, loss=0.1441\n",
      " 63%|██████▎   | 227/360 [00:03<00:02, 56.87it/s, loss=0.1441\n",
      " 63%|██████▎   | 227/360 [00:03<00:02, 56.76it/s, loss=0.1439\n",
      " 63%|██████▎   | 227/360 [00:04<00:02, 56.59it/s, loss=0.1455\n",
      " 63%|██████▎   | 227/360 [00:04<00:02, 56.25it/s, loss=0.1447\n",
      " 63%|██████▎   | 227/360 [00:04<00:02, 56.11it/s, loss=0.1453\n",
      " 63%|██████▎   | 227/360 [00:04<00:02, 55.93it/s, loss=0.1458\n",
      " 63%|██████▎   | 227/360 [00:04<00:02, 55.81it/s, loss=0.1460\n",
      " 63%|██████▎   | 227/360 [00:04<00:02, 55.69it/s, loss=0.1456\n",
      " 63%|██████▎   | 227/360 [00:04<00:02, 55.54it/s, loss=0.1457\n",
      " 63%|██████▎   | 227/360 [00:04<00:02, 55.33it/s, loss=0.1462\n",
      " 63%|██████▎   | 227/360 [00:04<00:02, 55.23it/s, loss=0.1478\n",
      " 63%|██████▎   | 227/360 [00:04<00:02, 55.10it/s, loss=0.1480\n",
      " 66%|██████▌   | 238/360 [00:04<00:02, 57.74it/s, loss=0.1480\n",
      " 66%|██████▌   | 238/360 [00:04<00:02, 57.52it/s, loss=0.1490\n",
      " 66%|██████▌   | 238/360 [00:04<00:02, 57.39it/s, loss=0.1532\n",
      " 66%|██████▌   | 238/360 [00:04<00:02, 57.27it/s, loss=0.1526\n",
      " 66%|██████▌   | 238/360 [00:04<00:02, 57.08it/s, loss=0.1534\n",
      " 66%|██████▌   | 238/360 [00:04<00:02, 56.91it/s, loss=0.1570\n",
      " 66%|██████▌   | 238/360 [00:04<00:02, 56.73it/s, loss=0.1565\n",
      " 66%|██████▌   | 238/360 [00:04<00:02, 56.65it/s, loss=0.1577\n",
      " 66%|██████▌   | 238/360 [00:04<00:02, 56.59it/s, loss=0.1571\n",
      " 66%|██████▌   | 238/360 [00:04<00:02, 56.53it/s, loss=0.1578\n",
      " 66%|██████▌   | 238/360 [00:04<00:02, 56.48it/s, loss=0.1568\n",
      " 66%|██████▌   | 238/360 [00:04<00:02, 56.43it/s, loss=0.1562\n",
      " 66%|██████▌   | 238/360 [00:04<00:02, 56.37it/s, loss=0.1556\n",
      " 69%|██████▉   | 250/360 [00:04<00:01, 59.20it/s, loss=0.1556\n",
      " 69%|██████▉   | 250/360 [00:04<00:01, 59.14it/s, loss=0.1581\n",
      " 69%|██████▉   | 250/360 [00:04<00:01, 59.07it/s, loss=0.1593\n",
      " 69%|██████▉   | 250/360 [00:04<00:01, 59.01it/s, loss=0.1602\n"
     ]
    },
    {
     "name": "stdout",
     "output_type": "stream",
     "text": [
      " 69%|██████▉   | 250/360 [00:04<00:01, 58.95it/s, loss=0.1583\n",
      " 69%|██████▉   | 250/360 [00:04<00:01, 58.89it/s, loss=0.1571\n",
      " 69%|██████▉   | 250/360 [00:04<00:01, 58.84it/s, loss=0.1571\n",
      " 69%|██████▉   | 250/360 [00:04<00:01, 58.77it/s, loss=0.1576\n",
      " 69%|██████▉   | 250/360 [00:04<00:01, 58.71it/s, loss=0.1575\n",
      " 69%|██████▉   | 250/360 [00:04<00:01, 58.64it/s, loss=0.1577\n",
      " 69%|██████▉   | 250/360 [00:04<00:01, 58.57it/s, loss=0.1577\n",
      " 69%|██████▉   | 250/360 [00:04<00:01, 58.51it/s, loss=0.1565\n",
      " 69%|██████▉   | 250/360 [00:04<00:01, 58.44it/s, loss=0.1578\n",
      " 69%|██████▉   | 250/360 [00:04<00:01, 58.39it/s, loss=0.1595\n",
      " 69%|██████▉   | 250/360 [00:04<00:01, 58.31it/s, loss=0.1587\n",
      " 69%|██████▉   | 250/360 [00:04<00:01, 58.24it/s, loss=0.1586\n",
      " 69%|██████▉   | 250/360 [00:04<00:01, 58.18it/s, loss=0.1600\n",
      " 69%|██████▉   | 250/360 [00:04<00:01, 58.11it/s, loss=0.1599\n",
      " 69%|██████▉   | 250/360 [00:04<00:01, 58.05it/s, loss=0.1584\n",
      " 69%|██████▉   | 250/360 [00:04<00:01, 57.99it/s, loss=0.1566\n",
      " 69%|██████▉   | 250/360 [00:04<00:01, 57.94it/s, loss=0.1566\n",
      " 69%|██████▉   | 250/360 [00:04<00:01, 57.88it/s, loss=0.1557\n",
      " 69%|██████▉   | 250/360 [00:04<00:01, 57.81it/s, loss=0.1548\n",
      " 76%|███████▌  | 272/360 [00:04<00:01, 62.88it/s, loss=0.1548\n",
      " 76%|███████▌  | 272/360 [00:04<00:01, 62.82it/s, loss=0.1567\n",
      " 76%|███████▌  | 272/360 [00:04<00:01, 62.76it/s, loss=0.1567\n",
      " 76%|███████▌  | 272/360 [00:04<00:01, 62.69it/s, loss=0.1562\n",
      " 76%|███████▌  | 272/360 [00:04<00:01, 62.62it/s, loss=0.1545\n",
      " 76%|███████▌  | 272/360 [00:04<00:01, 62.49it/s, loss=0.1545\n",
      " 76%|███████▌  | 272/360 [00:04<00:01, 62.43it/s, loss=0.1536\n",
      " 76%|███████▌  | 272/360 [00:04<00:01, 62.37it/s, loss=0.1531\n",
      " 76%|███████▌  | 272/360 [00:04<00:01, 62.30it/s, loss=0.1519\n",
      " 76%|███████▌  | 272/360 [00:04<00:01, 62.23it/s, loss=0.1518\n",
      " 76%|███████▌  | 272/360 [00:04<00:01, 62.17it/s, loss=0.1526\n",
      " 76%|███████▌  | 272/360 [00:04<00:01, 62.11it/s, loss=0.1562\n",
      " 76%|███████▌  | 272/360 [00:04<00:01, 62.05it/s, loss=0.1576\n",
      " 76%|███████▌  | 272/360 [00:04<00:01, 61.99it/s, loss=0.1564\n",
      " 76%|███████▌  | 272/360 [00:04<00:01, 61.92it/s, loss=0.1549\n",
      " 76%|███████▌  | 272/360 [00:04<00:01, 59.87it/s, loss=0.1543\n",
      " 80%|███████▉  | 287/360 [00:04<00:01, 63.05it/s, loss=0.1543\n",
      " 80%|███████▉  | 287/360 [00:04<00:01, 62.76it/s, loss=0.1525\n",
      " 80%|███████▉  | 287/360 [00:04<00:01, 62.39it/s, loss=0.1536\n",
      " 80%|███████▉  | 287/360 [00:04<00:01, 62.16it/s, loss=0.1515\n",
      " 80%|███████▉  | 287/360 [00:04<00:01, 61.97it/s, loss=0.1516\n",
      " 80%|███████▉  | 287/360 [00:04<00:01, 61.83it/s, loss=0.1506\n",
      " 80%|███████▉  | 287/360 [00:04<00:01, 61.72it/s, loss=0.1512\n",
      " 80%|███████▉  | 287/360 [00:04<00:01, 61.49it/s, loss=0.1525\n",
      " 80%|███████▉  | 287/360 [00:04<00:01, 61.27it/s, loss=0.1517\n",
      " 80%|███████▉  | 287/360 [00:04<00:01, 61.12it/s, loss=0.1525\n",
      " 80%|███████▉  | 287/360 [00:04<00:01, 60.96it/s, loss=0.1518\n",
      " 80%|███████▉  | 287/360 [00:04<00:01, 60.87it/s, loss=0.1504\n",
      " 80%|███████▉  | 287/360 [00:04<00:01, 60.64it/s, loss=0.1505\n",
      " 83%|████████▎ | 299/360 [00:04<00:00, 63.15it/s, loss=0.1505\n",
      " 83%|████████▎ | 299/360 [00:04<00:00, 62.91it/s, loss=0.1502\n",
      " 83%|████████▎ | 299/360 [00:04<00:00, 62.78it/s, loss=0.1515\n",
      " 83%|████████▎ | 299/360 [00:04<00:00, 62.56it/s, loss=0.1502\n",
      " 83%|████████▎ | 299/360 [00:04<00:00, 62.40it/s, loss=0.1487\n",
      " 83%|████████▎ | 299/360 [00:04<00:00, 62.18it/s, loss=0.1507\n",
      " 83%|████████▎ | 299/360 [00:04<00:01, 59.83it/s, loss=0.1522\n",
      " 83%|████████▎ | 299/360 [00:05<00:01, 59.50it/s, loss=0.1513\n",
      " 83%|████████▎ | 299/360 [00:05<00:01, 58.98it/s, loss=0.1517\n",
      " 83%|████████▎ | 299/360 [00:05<00:01, 58.60it/s, loss=0.1512\n",
      " 83%|████████▎ | 299/360 [00:05<00:01, 58.39it/s, loss=0.1520\n",
      " 83%|████████▎ | 299/360 [00:05<00:01, 58.29it/s, loss=0.1553\n",
      " 86%|████████▌ | 310/360 [00:05<00:00, 60.41it/s, loss=0.1553\n",
      " 86%|████████▌ | 310/360 [00:05<00:00, 60.23it/s, loss=0.1541\n",
      " 86%|████████▌ | 310/360 [00:05<00:00, 60.01it/s, loss=0.1545\n",
      " 86%|████████▌ | 310/360 [00:05<00:00, 59.84it/s, loss=0.1541\n",
      " 86%|████████▌ | 310/360 [00:05<00:00, 59.75it/s, loss=0.1539\n",
      " 86%|████████▌ | 310/360 [00:05<00:00, 59.53it/s, loss=0.1526\n",
      " 86%|████████▌ | 310/360 [00:05<00:00, 59.39it/s, loss=0.1516\n",
      " 86%|████████▌ | 310/360 [00:05<00:00, 59.30it/s, loss=0.1532\n",
      " 86%|████████▌ | 310/360 [00:05<00:00, 59.12it/s, loss=0.1532\n",
      " 88%|████████▊ | 318/360 [00:05<00:00, 60.63it/s, loss=0.1532\n",
      " 88%|████████▊ | 318/360 [00:05<00:00, 60.56it/s, loss=0.1516\n",
      " 88%|████████▊ | 318/360 [00:05<00:00, 60.35it/s, loss=0.1503\n",
      " 88%|████████▊ | 318/360 [00:05<00:00, 60.23it/s, loss=0.1499\n",
      " 88%|████████▊ | 318/360 [00:05<00:00, 60.07it/s, loss=0.1503\n",
      " 88%|████████▊ | 318/360 [00:05<00:00, 59.95it/s, loss=0.1502\n",
      " 88%|████████▊ | 318/360 [00:05<00:00, 59.88it/s, loss=0.1519\n",
      " 88%|████████▊ | 318/360 [00:05<00:00, 59.80it/s, loss=0.1512\n",
      " 88%|████████▊ | 318/360 [00:05<00:00, 59.43it/s, loss=0.1507\n",
      " 91%|█████████ | 326/360 [00:05<00:00, 60.91it/s, loss=0.1507\n",
      " 91%|█████████ | 326/360 [00:05<00:00, 60.82it/s, loss=0.1503\n",
      " 91%|█████████ | 326/360 [00:05<00:00, 60.61it/s, loss=0.1519\n",
      " 91%|█████████ | 326/360 [00:05<00:00, 60.30it/s, loss=0.1507\n",
      " 91%|█████████ | 326/360 [00:05<00:00, 60.21it/s, loss=0.1489\n",
      " 91%|█████████ | 326/360 [00:05<00:00, 59.97it/s, loss=0.1472\n",
      " 91%|█████████ | 326/360 [00:05<00:00, 59.83it/s, loss=0.1473\n",
      " 91%|█████████ | 326/360 [00:05<00:00, 59.72it/s, loss=0.1459\n",
      " 91%|█████████ | 326/360 [00:05<00:00, 59.60it/s, loss=0.1462\n",
      " 93%|█████████▎| 334/360 [00:05<00:00, 61.04it/s, loss=0.1462\n",
      " 93%|█████████▎| 334/360 [00:05<00:00, 60.84it/s, loss=0.1456\n",
      " 93%|█████████▎| 334/360 [00:05<00:00, 60.74it/s, loss=0.1446\n",
      " 93%|█████████▎| 334/360 [00:05<00:00, 60.63it/s, loss=0.1441\n",
      " 93%|█████████▎| 334/360 [00:05<00:00, 60.52it/s, loss=0.1439\n",
      " 93%|█████████▎| 334/360 [00:05<00:00, 60.43it/s, loss=0.1458\n",
      " 93%|█████████▎| 334/360 [00:05<00:00, 60.29it/s, loss=0.1453\n",
      " 93%|█████████▎| 334/360 [00:05<00:00, 60.22it/s, loss=0.1432\n",
      " 93%|█████████▎| 334/360 [00:05<00:00, 60.11it/s, loss=0.1467\n",
      " 93%|█████████▎| 334/360 [00:05<00:00, 60.05it/s, loss=0.1454\n",
      " 93%|█████████▎| 334/360 [00:05<00:00, 59.83it/s, loss=0.1446\n",
      " 96%|█████████▌| 344/360 [00:05<00:00, 61.60it/s, loss=0.1446\n",
      " 96%|█████████▌| 344/360 [00:05<00:00, 61.36it/s, loss=0.1448\n",
      " 96%|█████████▌| 344/360 [00:05<00:00, 61.25it/s, loss=0.1434\n",
      " 96%|█████████▌| 344/360 [00:05<00:00, 61.14it/s, loss=0.1419\n",
      " 96%|█████████▌| 344/360 [00:05<00:00, 61.07it/s, loss=0.1418\n",
      " 96%|█████████▌| 344/360 [00:05<00:00, 60.93it/s, loss=0.1417\n",
      " 96%|█████████▌| 344/360 [00:05<00:00, 60.82it/s, loss=0.1406\n",
      " 96%|█████████▌| 344/360 [00:05<00:00, 60.69it/s, loss=0.1389\n",
      " 96%|█████████▌| 344/360 [00:05<00:00, 60.46it/s, loss=0.1393\n",
      " 98%|█████████▊| 352/360 [00:05<00:00, 61.83it/s, loss=0.1393\n",
      " 98%|█████████▊| 352/360 [00:05<00:00, 61.67it/s, loss=0.1407\n",
      " 98%|█████████▊| 352/360 [00:05<00:00, 61.58it/s, loss=0.1396\n",
      " 98%|█████████▊| 352/360 [00:05<00:00, 61.49it/s, loss=0.1388\n",
      " 98%|█████████▊| 352/360 [00:05<00:00, 61.42it/s, loss=0.1373\n",
      " 98%|█████████▊| 352/360 [00:05<00:00, 61.35it/s, loss=0.1377\n",
      " 98%|█████████▊| 352/360 [00:05<00:00, 61.25it/s, loss=0.1367\n",
      " 98%|█████████▊| 352/360 [00:05<00:00, 61.18it/s, loss=0.1355\n",
      " 98%|█████████▊| 352/360 [00:05<00:00, 61.14it/s, loss=0.1329\n",
      "epoch      trn_loss   val_loss   accuracy                                                                 \n",
      "    0      0.132888   0.117021   0.950684  \n",
      "  0%|          | 0/360 [00:00<?, ?it/s, loss=0.1351\n",
      "  0%|          | 1/360 [00:00<00:54,  6.58it/s, loss=0.1351\n",
      "  0%|          | 1/360 [00:00<00:56,  6.32it/s, loss=0.1347\n",
      "  0%|          | 1/360 [00:00<00:59,  5.99it/s, loss=0.1389\n",
      "  0%|          | 1/360 [00:00<01:03,  5.66it/s, loss=0.1388\n",
      "  0%|          | 1/360 [00:00<01:06,  5.38it/s, loss=0.1376\n",
      "  0%|          | 1/360 [00:00<01:11,  5.02it/s, loss=0.1363\n",
      "  0%|          | 1/360 [00:00<01:18,  4.59it/s, loss=0.1383\n",
      "  0%|          | 1/360 [00:00<01:25,  4.21it/s, loss=0.1376\n",
      "  0%|          | 1/360 [00:00<01:34,  3.81it/s, loss=0.1372\n",
      "  2%|▎         | 9/360 [00:00<00:10, 33.99it/s, loss=0.1372\n",
      "  2%|▎         | 9/360 [00:00<00:10, 32.16it/s, loss=0.1375\n",
      "  2%|▎         | 9/360 [00:00<00:11, 31.05it/s, loss=0.1378\n",
      "  2%|▎         | 9/360 [00:00<00:11, 29.77it/s, loss=0.1379\n"
     ]
    },
    {
     "name": "stdout",
     "output_type": "stream",
     "text": [
      "  2%|▎         | 9/360 [00:00<00:12, 28.96it/s, loss=0.1368\n",
      "  2%|▎         | 9/360 [00:00<00:12, 28.09it/s, loss=0.1382\n",
      "  2%|▎         | 9/360 [00:00<00:12, 27.46it/s, loss=0.1375\n",
      "  2%|▎         | 9/360 [00:00<00:13, 26.59it/s, loss=0.1388\n",
      "  2%|▎         | 9/360 [00:00<00:13, 25.09it/s, loss=0.1375\n",
      "  2%|▎         | 9/360 [00:00<00:14, 23.63it/s, loss=0.1368\n",
      "  5%|▌         | 18/360 [00:00<00:07, 46.99it/s, loss=0.1368\n",
      "  5%|▌         | 18/360 [00:00<00:07, 45.13it/s, loss=0.1370\n",
      "  5%|▌         | 18/360 [00:00<00:07, 44.35it/s, loss=0.1366\n",
      "  5%|▌         | 18/360 [00:00<00:08, 42.72it/s, loss=0.1351\n",
      "  5%|▌         | 18/360 [00:00<00:08, 41.69it/s, loss=0.1357\n",
      "  5%|▌         | 18/360 [00:00<00:08, 40.78it/s, loss=0.1362\n",
      "  5%|▌         | 18/360 [00:00<00:08, 40.12it/s, loss=0.1353\n",
      "  5%|▌         | 18/360 [00:00<00:08, 38.45it/s, loss=0.1374\n",
      "  5%|▌         | 18/360 [00:00<00:09, 37.67it/s, loss=0.1365\n",
      "  7%|▋         | 26/360 [00:00<00:06, 53.62it/s, loss=0.1365\n",
      "  7%|▋         | 26/360 [00:00<00:06, 52.70it/s, loss=0.1354\n",
      "  7%|▋         | 26/360 [00:00<00:06, 50.84it/s, loss=0.1339\n",
      "  7%|▋         | 26/360 [00:00<00:06, 49.72it/s, loss=0.1342\n",
      "  7%|▋         | 26/360 [00:00<00:06, 48.82it/s, loss=0.1331\n",
      "  7%|▋         | 26/360 [00:00<00:06, 48.18it/s, loss=0.1322\n",
      "  7%|▋         | 26/360 [00:00<00:07, 47.37it/s, loss=0.1319\n",
      "  7%|▋         | 26/360 [00:00<00:07, 46.07it/s, loss=0.1305\n",
      "  7%|▋         | 26/360 [00:00<00:07, 44.36it/s, loss=0.1300\n",
      "  9%|▉         | 34/360 [00:00<00:05, 57.76it/s, loss=0.1300\n",
      "  9%|▉         | 34/360 [00:00<00:05, 57.19it/s, loss=0.1308\n",
      "  9%|▉         | 34/360 [00:00<00:05, 56.06it/s, loss=0.1304\n",
      "  9%|▉         | 34/360 [00:00<00:05, 55.16it/s, loss=0.1324\n",
      "  9%|▉         | 34/360 [00:00<00:06, 54.32it/s, loss=0.1318\n",
      "  9%|▉         | 34/360 [00:00<00:06, 53.52it/s, loss=0.1322\n",
      "  9%|▉         | 34/360 [00:00<00:06, 52.24it/s, loss=0.1334\n",
      "  9%|▉         | 34/360 [00:00<00:06, 51.16it/s, loss=0.1321\n",
      "  9%|▉         | 34/360 [00:00<00:06, 49.60it/s, loss=0.1328\n",
      "  9%|▉         | 34/360 [00:00<00:06, 48.83it/s, loss=0.1346\n",
      " 12%|█▏        | 43/360 [00:00<00:05, 61.56it/s, loss=0.1346\n",
      " 12%|█▏        | 43/360 [00:00<00:05, 59.91it/s, loss=0.1326\n",
      " 12%|█▏        | 43/360 [00:00<00:05, 59.15it/s, loss=0.1320\n",
      " 12%|█▏        | 43/360 [00:00<00:05, 58.44it/s, loss=0.1322\n",
      " 12%|█▏        | 43/360 [00:00<00:05, 57.92it/s, loss=0.1344\n",
      " 12%|█▏        | 43/360 [00:00<00:05, 56.99it/s, loss=0.1336\n",
      " 12%|█▏        | 43/360 [00:00<00:05, 56.53it/s, loss=0.1321\n",
      " 12%|█▏        | 43/360 [00:00<00:05, 54.30it/s, loss=0.1302\n",
      " 12%|█▏        | 43/360 [00:00<00:05, 53.65it/s, loss=0.1296\n",
      " 14%|█▍        | 51/360 [00:00<00:04, 63.46it/s, loss=0.1296\n",
      " 14%|█▍        | 51/360 [00:00<00:04, 62.73it/s, loss=0.1348\n",
      " 14%|█▍        | 51/360 [00:00<00:04, 61.97it/s, loss=0.1332\n",
      " 14%|█▍        | 51/360 [00:00<00:05, 61.29it/s, loss=0.1310\n",
      " 14%|█▍        | 51/360 [00:00<00:05, 60.75it/s, loss=0.1314\n",
      " 14%|█▍        | 51/360 [00:00<00:05, 59.96it/s, loss=0.1325\n",
      " 14%|█▍        | 51/360 [00:00<00:05, 57.17it/s, loss=0.1320\n",
      " 14%|█▍        | 51/360 [00:00<00:05, 56.68it/s, loss=0.1315\n",
      " 14%|█▍        | 51/360 [00:00<00:05, 56.26it/s, loss=0.1330\n",
      " 16%|█▋        | 59/360 [00:00<00:04, 64.92it/s, loss=0.1330\n",
      " 16%|█▋        | 59/360 [00:00<00:04, 63.72it/s, loss=0.1327\n",
      " 16%|█▋        | 59/360 [00:00<00:04, 62.99it/s, loss=0.1326\n",
      " 16%|█▋        | 59/360 [00:00<00:04, 62.22it/s, loss=0.1366\n",
      " 16%|█▋        | 59/360 [00:00<00:04, 61.59it/s, loss=0.1357\n",
      " 16%|█▋        | 59/360 [00:00<00:04, 60.53it/s, loss=0.1364\n",
      " 16%|█▋        | 59/360 [00:00<00:05, 59.88it/s, loss=0.1362\n",
      " 16%|█▋        | 59/360 [00:01<00:05, 58.64it/s, loss=0.1360\n",
      " 16%|█▋        | 59/360 [00:01<00:05, 57.83it/s, loss=0.1372\n",
      " 19%|█▊        | 67/360 [00:01<00:04, 65.16it/s, loss=0.1372\n",
      " 19%|█▊        | 67/360 [00:01<00:04, 64.65it/s, loss=0.1375\n",
      " 19%|█▊        | 67/360 [00:01<00:04, 64.12it/s, loss=0.1392\n",
      " 19%|█▊        | 67/360 [00:01<00:04, 63.59it/s, loss=0.1396\n",
      " 19%|█▊        | 67/360 [00:01<00:04, 62.97it/s, loss=0.1386\n",
      " 19%|█▊        | 67/360 [00:01<00:04, 62.38it/s, loss=0.1396\n",
      " 19%|█▊        | 67/360 [00:01<00:04, 60.64it/s, loss=0.1399\n",
      " 19%|█▊        | 67/360 [00:01<00:04, 60.06it/s, loss=0.1415\n",
      " 19%|█▊        | 67/360 [00:01<00:04, 59.21it/s, loss=0.1404\n",
      " 21%|██        | 75/360 [00:01<00:04, 66.05it/s, loss=0.1404\n",
      " 21%|██        | 75/360 [00:01<00:04, 65.15it/s, loss=0.1409\n",
      " 21%|██        | 75/360 [00:01<00:04, 64.56it/s, loss=0.1391\n",
      " 21%|██        | 75/360 [00:01<00:04, 63.92it/s, loss=0.1400\n",
      " 21%|██        | 75/360 [00:01<00:04, 62.98it/s, loss=0.1410\n",
      " 21%|██        | 75/360 [00:01<00:04, 62.45it/s, loss=0.1397\n",
      " 21%|██        | 75/360 [00:01<00:04, 62.14it/s, loss=0.1388\n",
      " 21%|██        | 75/360 [00:01<00:04, 61.63it/s, loss=0.1396\n",
      " 21%|██        | 75/360 [00:01<00:04, 61.04it/s, loss=0.1379\n",
      " 21%|██        | 75/360 [00:01<00:04, 60.56it/s, loss=0.1377\n",
      " 23%|██▎       | 84/360 [00:01<00:04, 67.62it/s, loss=0.1377\n",
      " 23%|██▎       | 84/360 [00:01<00:04, 67.18it/s, loss=0.1367\n",
      " 23%|██▎       | 84/360 [00:01<00:04, 66.82it/s, loss=0.1357\n",
      " 23%|██▎       | 84/360 [00:01<00:04, 66.10it/s, loss=0.1339\n",
      " 23%|██▎       | 84/360 [00:01<00:04, 65.26it/s, loss=0.1349\n",
      " 23%|██▎       | 84/360 [00:01<00:04, 64.69it/s, loss=0.1331\n",
      " 23%|██▎       | 84/360 [00:01<00:04, 64.13it/s, loss=0.1347\n",
      " 23%|██▎       | 84/360 [00:01<00:04, 63.67it/s, loss=0.1344\n",
      " 23%|██▎       | 84/360 [00:01<00:04, 62.84it/s, loss=0.1336\n",
      " 23%|██▎       | 84/360 [00:01<00:04, 61.94it/s, loss=0.1357\n",
      " 26%|██▌       | 93/360 [00:01<00:03, 68.52it/s, loss=0.1357\n",
      " 26%|██▌       | 93/360 [00:01<00:03, 68.02it/s, loss=0.1349\n",
      " 26%|██▌       | 93/360 [00:01<00:03, 67.68it/s, loss=0.1362\n",
      " 26%|██▌       | 93/360 [00:01<00:03, 67.24it/s, loss=0.1375\n",
      " 26%|██▌       | 93/360 [00:01<00:03, 66.82it/s, loss=0.1363\n",
      " 26%|██▌       | 93/360 [00:01<00:04, 66.15it/s, loss=0.1358\n",
      " 26%|██▌       | 93/360 [00:01<00:04, 65.24it/s, loss=0.1353\n",
      " 26%|██▌       | 93/360 [00:01<00:04, 64.47it/s, loss=0.1371\n",
      " 26%|██▌       | 93/360 [00:01<00:04, 64.02it/s, loss=0.1363\n",
      " 26%|██▌       | 93/360 [00:01<00:04, 63.49it/s, loss=0.1352\n",
      " 28%|██▊       | 102/360 [00:01<00:03, 69.50it/s, loss=0.1352\n",
      " 28%|██▊       | 102/360 [00:01<00:03, 68.94it/s, loss=0.1352\n",
      " 28%|██▊       | 102/360 [00:01<00:03, 68.59it/s, loss=0.1340\n",
      " 28%|██▊       | 102/360 [00:01<00:03, 67.73it/s, loss=0.1341\n",
      " 28%|██▊       | 102/360 [00:01<00:03, 67.18it/s, loss=0.1331\n",
      " 28%|██▊       | 102/360 [00:01<00:03, 66.32it/s, loss=0.1327\n",
      " 28%|██▊       | 102/360 [00:01<00:03, 65.01it/s, loss=0.1316\n",
      " 28%|██▊       | 102/360 [00:01<00:04, 64.44it/s, loss=0.1318\n",
      " 28%|██▊       | 102/360 [00:01<00:04, 64.17it/s, loss=0.1301\n",
      " 31%|███       | 110/360 [00:01<00:03, 69.16it/s, loss=0.1301\n",
      " 31%|███       | 110/360 [00:01<00:03, 68.86it/s, loss=0.1299\n",
      " 31%|███       | 110/360 [00:01<00:03, 68.57it/s, loss=0.1290\n",
      " 31%|███       | 110/360 [00:01<00:03, 68.13it/s, loss=0.1285\n",
      " 31%|███       | 110/360 [00:01<00:03, 67.31it/s, loss=0.1280\n",
      " 31%|███       | 110/360 [00:01<00:03, 66.75it/s, loss=0.1285\n",
      " 31%|███       | 110/360 [00:01<00:03, 66.42it/s, loss=0.1274\n",
      " 31%|███       | 110/360 [00:01<00:03, 65.90it/s, loss=0.1254\n",
      " 31%|███       | 110/360 [00:01<00:03, 65.56it/s, loss=0.1246\n",
      " 31%|███       | 110/360 [00:01<00:03, 65.25it/s, loss=0.1236\n",
      " 31%|███       | 110/360 [00:01<00:03, 65.06it/s, loss=0.1252\n",
      " 33%|███▎      | 120/360 [00:01<00:03, 70.94it/s, loss=0.1252\n",
      " 33%|███▎      | 120/360 [00:01<00:03, 70.06it/s, loss=0.1252\n",
      " 33%|███▎      | 120/360 [00:01<00:03, 69.58it/s, loss=0.1249\n",
      " 33%|███▎      | 120/360 [00:01<00:03, 68.91it/s, loss=0.1241\n",
      " 33%|███▎      | 120/360 [00:01<00:03, 68.32it/s, loss=0.1253\n",
      " 33%|███▎      | 120/360 [00:01<00:03, 67.96it/s, loss=0.1247\n",
      " 33%|███▎      | 120/360 [00:01<00:03, 67.53it/s, loss=0.1259\n",
      " 33%|███▎      | 120/360 [00:01<00:03, 66.94it/s, loss=0.1245\n",
      " 33%|███▎      | 120/360 [00:01<00:03, 66.65it/s, loss=0.1239\n",
      " 33%|███▎      | 120/360 [00:01<00:03, 66.31it/s, loss=0.1246\n",
      " 36%|███▌      | 129/360 [00:01<00:03, 71.17it/s, loss=0.1246\n",
      " 36%|███▌      | 129/360 [00:01<00:03, 70.58it/s, loss=0.1245\n",
      " 36%|███▌      | 129/360 [00:01<00:03, 70.06it/s, loss=0.1248\n",
      " 36%|███▌      | 129/360 [00:01<00:03, 69.83it/s, loss=0.1242\n"
     ]
    },
    {
     "name": "stdout",
     "output_type": "stream",
     "text": [
      " 36%|███▌      | 129/360 [00:01<00:03, 69.45it/s, loss=0.1234\n",
      " 36%|███▌      | 129/360 [00:01<00:03, 69.02it/s, loss=0.1225\n",
      " 36%|███▌      | 129/360 [00:01<00:03, 68.38it/s, loss=0.1235\n",
      " 36%|███▌      | 129/360 [00:01<00:03, 68.10it/s, loss=0.1262\n",
      " 36%|███▌      | 129/360 [00:01<00:03, 67.23it/s, loss=0.1264\n",
      " 38%|███▊      | 137/360 [00:01<00:03, 71.33it/s, loss=0.1264\n",
      " 38%|███▊      | 137/360 [00:01<00:03, 71.16it/s, loss=0.1269\n",
      " 38%|███▊      | 137/360 [00:01<00:03, 70.27it/s, loss=0.1259\n",
      " 38%|███▊      | 137/360 [00:01<00:03, 69.90it/s, loss=0.1249\n",
      " 38%|███▊      | 137/360 [00:01<00:03, 69.47it/s, loss=0.1247\n",
      " 38%|███▊      | 137/360 [00:01<00:03, 69.04it/s, loss=0.1239\n",
      " 38%|███▊      | 137/360 [00:01<00:03, 68.67it/s, loss=0.1239\n",
      " 38%|███▊      | 137/360 [00:02<00:03, 68.46it/s, loss=0.1239\n",
      " 38%|███▊      | 137/360 [00:02<00:03, 67.81it/s, loss=0.1236\n",
      " 40%|████      | 145/360 [00:02<00:02, 71.73it/s, loss=0.1236\n",
      " 40%|████      | 145/360 [00:02<00:03, 71.52it/s, loss=0.1241\n",
      " 40%|████      | 145/360 [00:02<00:03, 70.98it/s, loss=0.1232\n",
      " 40%|████      | 145/360 [00:02<00:03, 70.59it/s, loss=0.1238\n",
      " 40%|████      | 145/360 [00:02<00:03, 70.26it/s, loss=0.1257\n",
      " 40%|████      | 145/360 [00:02<00:03, 70.00it/s, loss=0.1263\n",
      " 40%|████      | 145/360 [00:02<00:03, 69.41it/s, loss=0.1264\n",
      " 40%|████      | 145/360 [00:02<00:03, 69.10it/s, loss=0.1286\n",
      " 40%|████      | 145/360 [00:02<00:03, 68.42it/s, loss=0.1284\n",
      " 42%|████▎     | 153/360 [00:02<00:02, 72.09it/s, loss=0.1284\n",
      " 42%|████▎     | 153/360 [00:02<00:02, 71.79it/s, loss=0.1296\n",
      " 42%|████▎     | 153/360 [00:02<00:02, 71.54it/s, loss=0.1314\n",
      " 42%|████▎     | 153/360 [00:02<00:02, 71.09it/s, loss=0.1306\n",
      " 42%|████▎     | 153/360 [00:02<00:02, 70.60it/s, loss=0.1309\n",
      " 42%|████▎     | 153/360 [00:02<00:02, 70.28it/s, loss=0.1291\n",
      " 42%|████▎     | 153/360 [00:02<00:02, 69.88it/s, loss=0.1273\n",
      " 42%|████▎     | 153/360 [00:02<00:02, 69.52it/s, loss=0.1257\n",
      " 42%|████▎     | 153/360 [00:02<00:03, 68.87it/s, loss=0.1271\n",
      " 45%|████▍     | 161/360 [00:02<00:02, 72.44it/s, loss=0.1271\n",
      " 45%|████▍     | 161/360 [00:02<00:02, 72.12it/s, loss=0.1272\n",
      " 45%|████▍     | 161/360 [00:02<00:02, 71.80it/s, loss=0.1271\n",
      " 45%|████▍     | 161/360 [00:02<00:02, 71.48it/s, loss=0.1262\n",
      " 45%|████▍     | 161/360 [00:02<00:02, 71.09it/s, loss=0.1259\n",
      " 45%|████▍     | 161/360 [00:02<00:02, 70.82it/s, loss=0.1275\n",
      " 45%|████▍     | 161/360 [00:02<00:02, 70.61it/s, loss=0.1268\n",
      " 45%|████▍     | 161/360 [00:02<00:02, 69.90it/s, loss=0.1288\n",
      " 45%|████▍     | 161/360 [00:02<00:02, 69.66it/s, loss=0.1274\n",
      " 45%|████▍     | 161/360 [00:02<00:02, 69.15it/s, loss=0.1292\n",
      " 47%|████▋     | 170/360 [00:02<00:02, 72.90it/s, loss=0.1292\n",
      " 47%|████▋     | 170/360 [00:02<00:02, 72.53it/s, loss=0.1284\n",
      " 47%|████▋     | 170/360 [00:02<00:02, 72.34it/s, loss=0.1280\n",
      " 47%|████▋     | 170/360 [00:02<00:02, 72.03it/s, loss=0.1267\n",
      " 47%|████▋     | 170/360 [00:02<00:02, 71.51it/s, loss=0.1257\n",
      " 47%|████▋     | 170/360 [00:02<00:02, 70.98it/s, loss=0.1254\n",
      " 47%|████▋     | 170/360 [00:02<00:02, 70.71it/s, loss=0.1250\n",
      " 47%|████▋     | 170/360 [00:02<00:02, 70.35it/s, loss=0.1265\n",
      " 47%|████▋     | 170/360 [00:02<00:02, 69.91it/s, loss=0.1257\n",
      " 49%|████▉     | 178/360 [00:02<00:02, 73.06it/s, loss=0.1257\n",
      " 49%|████▉     | 178/360 [00:02<00:02, 72.90it/s, loss=0.1279\n",
      " 49%|████▉     | 178/360 [00:02<00:02, 72.32it/s, loss=0.1275\n",
      " 49%|████▉     | 178/360 [00:02<00:02, 72.02it/s, loss=0.1291\n",
      " 49%|████▉     | 178/360 [00:02<00:02, 71.55it/s, loss=0.1288\n",
      " 49%|████▉     | 178/360 [00:02<00:02, 71.31it/s, loss=0.1287\n",
      " 49%|████▉     | 178/360 [00:02<00:02, 70.59it/s, loss=0.1290\n",
      " 49%|████▉     | 178/360 [00:02<00:02, 70.38it/s, loss=0.1288\n",
      " 49%|████▉     | 178/360 [00:02<00:02, 69.85it/s, loss=0.1287\n",
      " 52%|█████▏    | 186/360 [00:02<00:02, 72.91it/s, loss=0.1287\n",
      " 52%|█████▏    | 186/360 [00:02<00:02, 72.73it/s, loss=0.1269\n",
      " 52%|█████▏    | 186/360 [00:02<00:02, 72.41it/s, loss=0.1264\n",
      " 52%|█████▏    | 186/360 [00:02<00:02, 72.07it/s, loss=0.1252\n",
      " 52%|█████▏    | 186/360 [00:02<00:02, 71.65it/s, loss=0.1284\n",
      " 52%|█████▏    | 186/360 [00:02<00:02, 71.37it/s, loss=0.1267\n",
      " 52%|█████▏    | 186/360 [00:02<00:02, 70.72it/s, loss=0.1250\n",
      " 52%|█████▏    | 186/360 [00:02<00:02, 70.34it/s, loss=0.1250\n",
      " 52%|█████▏    | 186/360 [00:02<00:02, 70.11it/s, loss=0.1241\n",
      " 54%|█████▍    | 194/360 [00:02<00:02, 73.07it/s, loss=0.1241\n",
      " 54%|█████▍    | 194/360 [00:02<00:02, 72.95it/s, loss=0.1258\n",
      " 54%|█████▍    | 194/360 [00:02<00:02, 72.80it/s, loss=0.1268\n",
      " 54%|█████▍    | 194/360 [00:02<00:02, 72.36it/s, loss=0.1261\n",
      " 54%|█████▍    | 194/360 [00:02<00:02, 71.93it/s, loss=0.1288\n",
      " 54%|█████▍    | 194/360 [00:02<00:02, 71.35it/s, loss=0.1280\n",
      " 54%|█████▍    | 194/360 [00:02<00:02, 70.77it/s, loss=0.1282\n",
      " 54%|█████▍    | 194/360 [00:02<00:02, 70.46it/s, loss=0.1272\n",
      " 54%|█████▍    | 194/360 [00:02<00:02, 70.32it/s, loss=0.1290\n",
      " 56%|█████▌    | 202/360 [00:02<00:02, 73.20it/s, loss=0.1290\n",
      " 56%|█████▌    | 202/360 [00:02<00:02, 73.08it/s, loss=0.1299\n",
      " 56%|█████▌    | 202/360 [00:02<00:02, 72.88it/s, loss=0.1309\n",
      " 56%|█████▌    | 202/360 [00:02<00:02, 72.59it/s, loss=0.1309\n",
      " 56%|█████▌    | 202/360 [00:02<00:02, 72.37it/s, loss=0.1306\n",
      " 56%|█████▌    | 202/360 [00:02<00:02, 71.58it/s, loss=0.1304\n",
      " 56%|█████▌    | 202/360 [00:02<00:02, 71.12it/s, loss=0.1305\n",
      " 56%|█████▌    | 202/360 [00:02<00:02, 70.82it/s, loss=0.1313\n",
      " 56%|█████▌    | 202/360 [00:02<00:02, 70.25it/s, loss=0.1318\n",
      " 58%|█████▊    | 210/360 [00:02<00:02, 72.97it/s, loss=0.1318\n",
      " 58%|█████▊    | 210/360 [00:02<00:02, 72.66it/s, loss=0.1315\n",
      " 58%|█████▊    | 210/360 [00:02<00:02, 72.39it/s, loss=0.1308\n",
      " 58%|█████▊    | 210/360 [00:02<00:02, 72.21it/s, loss=0.1306\n",
      " 58%|█████▊    | 210/360 [00:02<00:02, 72.03it/s, loss=0.1331\n",
      " 58%|█████▊    | 210/360 [00:02<00:02, 71.40it/s, loss=0.1325\n",
      " 58%|█████▊    | 210/360 [00:02<00:02, 71.13it/s, loss=0.1303\n",
      " 58%|█████▊    | 210/360 [00:02<00:02, 70.97it/s, loss=0.1304\n",
      " 58%|█████▊    | 210/360 [00:02<00:02, 70.44it/s, loss=0.1289\n",
      " 61%|██████    | 218/360 [00:02<00:01, 73.05it/s, loss=0.1289\n",
      " 61%|██████    | 218/360 [00:03<00:01, 72.67it/s, loss=0.1280\n",
      " 61%|██████    | 218/360 [00:03<00:01, 72.41it/s, loss=0.1267\n",
      " 61%|██████    | 218/360 [00:03<00:01, 72.18it/s, loss=0.1256\n",
      " 61%|██████    | 218/360 [00:03<00:01, 71.92it/s, loss=0.1242\n",
      " 61%|██████    | 218/360 [00:03<00:01, 71.42it/s, loss=0.1233\n",
      " 61%|██████    | 218/360 [00:03<00:02, 70.75it/s, loss=0.1232\n",
      " 61%|██████    | 218/360 [00:03<00:02, 70.58it/s, loss=0.1237\n",
      " 61%|██████    | 218/360 [00:03<00:02, 70.44it/s, loss=0.1230\n",
      " 63%|██████▎   | 226/360 [00:03<00:01, 72.95it/s, loss=0.1230\n",
      " 63%|██████▎   | 226/360 [00:03<00:01, 72.58it/s, loss=0.1235\n",
      " 63%|██████▎   | 226/360 [00:03<00:01, 72.34it/s, loss=0.1224\n",
      " 63%|██████▎   | 226/360 [00:03<00:01, 72.10it/s, loss=0.1229\n",
      " 63%|██████▎   | 226/360 [00:03<00:01, 71.94it/s, loss=0.1220\n",
      " 63%|██████▎   | 226/360 [00:03<00:01, 71.61it/s, loss=0.1213\n",
      " 63%|██████▎   | 226/360 [00:03<00:01, 71.15it/s, loss=0.1218\n",
      " 63%|██████▎   | 226/360 [00:03<00:01, 70.90it/s, loss=0.1227\n",
      " 63%|██████▎   | 226/360 [00:03<00:01, 70.66it/s, loss=0.1218\n",
      " 65%|██████▌   | 234/360 [00:03<00:01, 73.12it/s, loss=0.1218\n",
      " 65%|██████▌   | 234/360 [00:03<00:01, 72.59it/s, loss=0.1213\n",
      " 65%|██████▌   | 234/360 [00:03<00:01, 72.38it/s, loss=0.1237\n",
      " 65%|██████▌   | 234/360 [00:03<00:01, 72.21it/s, loss=0.1227\n",
      " 65%|██████▌   | 234/360 [00:03<00:01, 71.86it/s, loss=0.1213\n",
      " 65%|██████▌   | 234/360 [00:03<00:01, 71.59it/s, loss=0.1216\n",
      " 65%|██████▌   | 234/360 [00:03<00:01, 71.29it/s, loss=0.1234\n",
      " 65%|██████▌   | 234/360 [00:03<00:01, 71.05it/s, loss=0.1221\n",
      " 65%|██████▌   | 234/360 [00:03<00:01, 70.89it/s, loss=0.1209\n",
      " 67%|██████▋   | 242/360 [00:03<00:01, 73.15it/s, loss=0.1209\n",
      " 67%|██████▋   | 242/360 [00:03<00:01, 72.99it/s, loss=0.1202\n",
      " 67%|██████▋   | 242/360 [00:03<00:01, 72.84it/s, loss=0.1210\n",
      " 67%|██████▋   | 242/360 [00:03<00:01, 72.61it/s, loss=0.1209\n",
      " 67%|██████▋   | 242/360 [00:03<00:01, 72.42it/s, loss=0.1202\n",
      " 67%|██████▋   | 242/360 [00:03<00:01, 72.14it/s, loss=0.1185\n",
      " 67%|██████▋   | 242/360 [00:03<00:01, 71.49it/s, loss=0.1177\n",
      " 67%|██████▋   | 242/360 [00:03<00:01, 71.26it/s, loss=0.1174\n",
      " 67%|██████▋   | 242/360 [00:03<00:01, 71.02it/s, loss=0.1183\n"
     ]
    },
    {
     "name": "stdout",
     "output_type": "stream",
     "text": [
      " 69%|██████▉   | 250/360 [00:03<00:01, 73.33it/s, loss=0.1183\n",
      " 69%|██████▉   | 250/360 [00:03<00:01, 73.22it/s, loss=0.1186\n",
      " 69%|██████▉   | 250/360 [00:03<00:01, 73.02it/s, loss=0.1181\n",
      " 69%|██████▉   | 250/360 [00:03<00:01, 72.85it/s, loss=0.1205\n",
      " 69%|██████▉   | 250/360 [00:03<00:01, 72.66it/s, loss=0.1195\n",
      " 69%|██████▉   | 250/360 [00:03<00:01, 72.36it/s, loss=0.1180\n",
      " 69%|██████▉   | 250/360 [00:03<00:01, 71.97it/s, loss=0.1176\n",
      " 69%|██████▉   | 250/360 [00:03<00:01, 71.83it/s, loss=0.1186\n",
      " 69%|██████▉   | 250/360 [00:03<00:01, 71.54it/s, loss=0.1169\n",
      " 69%|██████▉   | 250/360 [00:03<00:01, 71.34it/s, loss=0.1168\n",
      " 69%|██████▉   | 250/360 [00:03<00:01, 71.16it/s, loss=0.1154\n",
      " 72%|███████▏  | 260/360 [00:03<00:01, 73.97it/s, loss=0.1154\n",
      " 72%|███████▏  | 260/360 [00:03<00:01, 73.70it/s, loss=0.1148\n",
      " 72%|███████▏  | 260/360 [00:03<00:01, 73.53it/s, loss=0.1155\n",
      " 72%|███████▏  | 260/360 [00:03<00:01, 73.13it/s, loss=0.1182\n",
      " 72%|███████▏  | 260/360 [00:03<00:01, 72.73it/s, loss=0.1176\n",
      " 72%|███████▏  | 260/360 [00:03<00:01, 72.55it/s, loss=0.1168\n",
      " 72%|███████▏  | 260/360 [00:03<00:01, 72.34it/s, loss=0.1160\n",
      " 72%|███████▏  | 260/360 [00:03<00:01, 72.15it/s, loss=0.1146\n",
      " 72%|███████▏  | 260/360 [00:03<00:01, 72.04it/s, loss=0.1153\n",
      " 72%|███████▏  | 260/360 [00:03<00:01, 71.85it/s, loss=0.1165\n",
      " 75%|███████▍  | 269/360 [00:03<00:01, 74.29it/s, loss=0.1165\n",
      " 75%|███████▍  | 269/360 [00:03<00:01, 74.06it/s, loss=0.1164\n",
      " 75%|███████▍  | 269/360 [00:03<00:01, 73.58it/s, loss=0.1175\n",
      " 75%|███████▍  | 269/360 [00:03<00:01, 73.19it/s, loss=0.1216\n",
      " 75%|███████▍  | 269/360 [00:03<00:01, 72.97it/s, loss=0.1214\n",
      " 75%|███████▍  | 269/360 [00:03<00:01, 72.71it/s, loss=0.1208\n",
      " 75%|███████▍  | 269/360 [00:03<00:01, 72.54it/s, loss=0.1207\n",
      " 75%|███████▍  | 269/360 [00:03<00:01, 72.22it/s, loss=0.1208\n",
      " 75%|███████▍  | 269/360 [00:03<00:01, 72.07it/s, loss=0.1199\n",
      " 75%|███████▍  | 269/360 [00:03<00:01, 71.88it/s, loss=0.1192\n",
      " 77%|███████▋  | 278/360 [00:03<00:01, 74.25it/s, loss=0.1192\n",
      " 77%|███████▋  | 278/360 [00:03<00:01, 74.00it/s, loss=0.1176\n",
      " 77%|███████▋  | 278/360 [00:03<00:01, 73.46it/s, loss=0.1197\n",
      " 77%|███████▋  | 278/360 [00:03<00:01, 73.30it/s, loss=0.1186\n",
      " 77%|███████▋  | 278/360 [00:03<00:01, 73.09it/s, loss=0.1188\n",
      " 77%|███████▋  | 278/360 [00:03<00:01, 72.73it/s, loss=0.1208\n",
      " 77%|███████▋  | 278/360 [00:03<00:01, 72.64it/s, loss=0.1223\n",
      " 77%|███████▋  | 278/360 [00:03<00:01, 72.52it/s, loss=0.1248\n",
      " 77%|███████▋  | 278/360 [00:03<00:01, 72.38it/s, loss=0.1240\n",
      " 77%|███████▋  | 278/360 [00:03<00:01, 71.91it/s, loss=0.1249\n",
      " 80%|███████▉  | 287/360 [00:03<00:00, 74.21it/s, loss=0.1249\n",
      " 80%|███████▉  | 287/360 [00:03<00:00, 74.08it/s, loss=0.1251\n",
      " 80%|███████▉  | 287/360 [00:03<00:00, 73.99it/s, loss=0.1257\n",
      " 80%|███████▉  | 287/360 [00:03<00:00, 73.67it/s, loss=0.1243\n",
      " 80%|███████▉  | 287/360 [00:03<00:00, 73.47it/s, loss=0.1251\n",
      " 80%|███████▉  | 287/360 [00:03<00:00, 73.28it/s, loss=0.1251\n",
      " 80%|███████▉  | 287/360 [00:03<00:00, 73.10it/s, loss=0.1248\n",
      " 80%|███████▉  | 287/360 [00:03<00:01, 72.92it/s, loss=0.1254\n",
      " 80%|███████▉  | 287/360 [00:03<00:01, 72.21it/s, loss=0.1255\n",
      " 82%|████████▏ | 295/360 [00:03<00:00, 74.18it/s, loss=0.1255\n",
      " 82%|████████▏ | 295/360 [00:03<00:00, 73.96it/s, loss=0.1254\n",
      " 82%|████████▏ | 295/360 [00:03<00:00, 73.86it/s, loss=0.1257\n",
      " 82%|████████▏ | 295/360 [00:04<00:00, 73.65it/s, loss=0.1246\n",
      " 82%|████████▏ | 295/360 [00:04<00:00, 73.56it/s, loss=0.1239\n",
      " 82%|████████▏ | 295/360 [00:04<00:00, 73.29it/s, loss=0.1242\n",
      " 82%|████████▏ | 295/360 [00:04<00:00, 73.02it/s, loss=0.1273\n",
      " 82%|████████▏ | 295/360 [00:04<00:00, 72.89it/s, loss=0.1299\n",
      " 82%|████████▏ | 295/360 [00:04<00:00, 72.50it/s, loss=0.1325\n",
      " 82%|████████▏ | 295/360 [00:04<00:00, 72.29it/s, loss=0.1306\n",
      " 84%|████████▍ | 304/360 [00:04<00:00, 74.45it/s, loss=0.1306\n",
      " 84%|████████▍ | 304/360 [00:04<00:00, 74.22it/s, loss=0.1303\n",
      " 84%|████████▍ | 304/360 [00:04<00:00, 74.10it/s, loss=0.1335\n",
      " 84%|████████▍ | 304/360 [00:04<00:00, 73.96it/s, loss=0.1342\n",
      " 84%|████████▍ | 304/360 [00:04<00:00, 73.75it/s, loss=0.1325\n",
      " 84%|████████▍ | 304/360 [00:04<00:00, 73.57it/s, loss=0.1324\n",
      " 84%|████████▍ | 304/360 [00:04<00:00, 73.14it/s, loss=0.1332\n",
      " 84%|████████▍ | 304/360 [00:04<00:00, 72.94it/s, loss=0.1318\n",
      " 84%|████████▍ | 304/360 [00:04<00:00, 72.76it/s, loss=0.1317\n",
      " 84%|████████▍ | 304/360 [00:04<00:00, 72.62it/s, loss=0.1333\n",
      " 87%|████████▋ | 313/360 [00:04<00:00, 74.73it/s, loss=0.1333\n",
      " 87%|████████▋ | 313/360 [00:04<00:00, 74.64it/s, loss=0.1329\n",
      " 87%|████████▋ | 313/360 [00:04<00:00, 74.49it/s, loss=0.1327\n",
      " 87%|████████▋ | 313/360 [00:04<00:00, 74.23it/s, loss=0.1313\n",
      " 87%|████████▋ | 313/360 [00:04<00:00, 74.06it/s, loss=0.1300\n",
      " 87%|████████▋ | 313/360 [00:04<00:00, 73.75it/s, loss=0.1297\n",
      " 87%|████████▋ | 313/360 [00:04<00:00, 73.34it/s, loss=0.1285\n",
      " 87%|████████▋ | 313/360 [00:04<00:00, 73.16it/s, loss=0.1292\n",
      " 87%|████████▋ | 313/360 [00:04<00:00, 73.01it/s, loss=0.1321\n",
      " 87%|████████▋ | 313/360 [00:04<00:00, 72.93it/s, loss=0.1313\n",
      " 89%|████████▉ | 322/360 [00:04<00:00, 74.99it/s, loss=0.1313\n",
      " 89%|████████▉ | 322/360 [00:04<00:00, 74.78it/s, loss=0.1312\n",
      " 89%|████████▉ | 322/360 [00:04<00:00, 74.69it/s, loss=0.1318\n",
      " 89%|████████▉ | 322/360 [00:04<00:00, 74.54it/s, loss=0.1302\n",
      " 89%|████████▉ | 322/360 [00:04<00:00, 74.27it/s, loss=0.1291\n",
      " 89%|████████▉ | 322/360 [00:04<00:00, 73.84it/s, loss=0.1278\n",
      " 89%|████████▉ | 322/360 [00:04<00:00, 73.69it/s, loss=0.1297\n",
      " 89%|████████▉ | 322/360 [00:04<00:00, 73.59it/s, loss=0.1301\n",
      " 89%|████████▉ | 322/360 [00:04<00:00, 73.48it/s, loss=0.1286\n",
      " 89%|████████▉ | 322/360 [00:04<00:00, 73.28it/s, loss=0.1271\n",
      " 92%|█████████▏| 331/360 [00:04<00:00, 75.28it/s, loss=0.1271\n",
      " 92%|█████████▏| 331/360 [00:04<00:00, 75.02it/s, loss=0.1263\n",
      " 92%|█████████▏| 331/360 [00:04<00:00, 74.78it/s, loss=0.1258\n",
      " 92%|█████████▏| 331/360 [00:04<00:00, 74.68it/s, loss=0.1264\n",
      " 92%|█████████▏| 331/360 [00:04<00:00, 74.36it/s, loss=0.1266\n",
      " 92%|█████████▏| 331/360 [00:04<00:00, 74.03it/s, loss=0.1280\n",
      " 92%|█████████▏| 331/360 [00:04<00:00, 73.84it/s, loss=0.1268\n",
      " 92%|█████████▏| 331/360 [00:04<00:00, 73.64it/s, loss=0.1265\n",
      " 92%|█████████▏| 331/360 [00:04<00:00, 73.52it/s, loss=0.1252\n",
      " 92%|█████████▏| 331/360 [00:04<00:00, 73.39it/s, loss=0.1258\n",
      " 94%|█████████▍| 340/360 [00:04<00:00, 75.35it/s, loss=0.1258\n",
      " 94%|█████████▍| 340/360 [00:04<00:00, 75.14it/s, loss=0.1246\n",
      " 94%|█████████▍| 340/360 [00:04<00:00, 74.99it/s, loss=0.1270\n",
      " 94%|█████████▍| 340/360 [00:04<00:00, 74.58it/s, loss=0.1258\n",
      " 94%|█████████▍| 340/360 [00:04<00:00, 74.39it/s, loss=0.1252\n",
      " 94%|█████████▍| 340/360 [00:04<00:00, 74.30it/s, loss=0.1267\n",
      " 94%|█████████▍| 340/360 [00:04<00:00, 74.13it/s, loss=0.1253\n",
      " 94%|█████████▍| 340/360 [00:04<00:00, 73.84it/s, loss=0.1269\n",
      " 94%|█████████▍| 340/360 [00:04<00:00, 73.74it/s, loss=0.1259\n",
      " 94%|█████████▍| 340/360 [00:04<00:00, 73.55it/s, loss=0.1246\n",
      " 97%|█████████▋| 349/360 [00:04<00:00, 75.42it/s, loss=0.1246\n",
      " 97%|█████████▋| 349/360 [00:04<00:00, 75.15it/s, loss=0.1255\n",
      " 97%|█████████▋| 349/360 [00:04<00:00, 75.06it/s, loss=0.1250\n",
      " 97%|█████████▋| 349/360 [00:04<00:00, 74.51it/s, loss=0.1234\n",
      " 97%|█████████▋| 349/360 [00:04<00:00, 74.40it/s, loss=0.1232\n",
      " 97%|█████████▋| 349/360 [00:04<00:00, 74.26it/s, loss=0.1222\n",
      " 97%|█████████▋| 349/360 [00:04<00:00, 74.12it/s, loss=0.1206\n",
      " 97%|█████████▋| 349/360 [00:04<00:00, 74.04it/s, loss=0.1198\n",
      " 97%|█████████▋| 349/360 [00:04<00:00, 73.97it/s, loss=0.1202\n",
      " 97%|█████████▋| 349/360 [00:04<00:00, 73.90it/s, loss=0.1200\n",
      " 97%|█████████▋| 349/360 [00:04<00:00, 73.81it/s, loss=0.1205\n",
      "100%|█████████▉| 359/360 [00:04<00:00, 75.91it/s, loss=0.1205\n",
      "100%|█████████▉| 359/360 [00:04<00:00, 75.84it/s, loss=0.1188\n",
      "    1      0.118783   0.118526   0.950684                                                                 \n",
      "\n"
     ]
    },
    {
     "data": {
      "text/plain": [
       "[0.11852589, 0.9506836]"
      ]
     },
     "execution_count": 7,
     "metadata": {},
     "output_type": "execute_result"
    }
   ],
   "source": [
    "arch=resnet34\n",
    "data = ImageClassifierData.from_paths(PATH, tfms=tfms_from_model(arch, sz))\n",
    "learn = ConvLearner.pretrained(arch, data, precompute=True)\n",
    "learn.fit(0.01, 2)"
   ]
  },
  {
   "cell_type": "markdown",
   "metadata": {
    "hidden": true
   },
   "source": [
    "How good is this model? Well, as we mentioned, prior to this competition, the state of the art was 80% accuracy. But the competition resulted in a huge jump to 98.9% accuracy, with the author of a popular deep learning library winning the competition. Extraordinarily, less than 4 years later, we can now beat that result in seconds! Even last year in this same course, our initial model had 98.3% accuracy, which is nearly double the error we're getting just a year later, and that took around 10 minutes to compute."
   ]
  },
  {
   "cell_type": "markdown",
   "metadata": {
    "heading_collapsed": true
   },
   "source": [
    "## Analyzing results: looking at pictures"
   ]
  },
  {
   "cell_type": "markdown",
   "metadata": {
    "hidden": true
   },
   "source": [
    "As well as looking at the overall metrics, it's also a good idea to look at examples of each of:\n",
    "1. A few correct labels at random\n",
    "2. A few incorrect labels at random\n",
    "3. The most correct labels of each class (ie those with highest probability that are correct)\n",
    "4. The most incorrect labels of each class (ie those with highest probability that are incorrect)\n",
    "5. The most uncertain labels (ie those with probability closest to 0.5)."
   ]
  },
  {
   "cell_type": "code",
   "execution_count": null,
   "metadata": {
    "hidden": true
   },
   "outputs": [],
   "source": [
    "# This is the label for a val data\n",
    "data.val_y"
   ]
  },
  {
   "cell_type": "code",
   "execution_count": null,
   "metadata": {
    "hidden": true
   },
   "outputs": [],
   "source": [
    "# from here we know that 'cats' is label 0 and 'dogs' is label 1.\n",
    "data.classes"
   ]
  },
  {
   "cell_type": "code",
   "execution_count": null,
   "metadata": {
    "hidden": true
   },
   "outputs": [],
   "source": [
    "# this gives prediction for validation set. Predictions are in log scale\n",
    "log_preds = learn.predict()\n",
    "log_preds.shape"
   ]
  },
  {
   "cell_type": "code",
   "execution_count": null,
   "metadata": {
    "hidden": true
   },
   "outputs": [],
   "source": [
    "log_preds[:10]"
   ]
  },
  {
   "cell_type": "code",
   "execution_count": null,
   "metadata": {
    "hidden": true
   },
   "outputs": [],
   "source": [
    "preds = np.argmax(log_preds, axis=1)  # from log probabilities to 0 or 1\n",
    "probs = np.exp(log_preds[:,1])        # pr(dog)"
   ]
  },
  {
   "cell_type": "code",
   "execution_count": null,
   "metadata": {
    "hidden": true
   },
   "outputs": [],
   "source": [
    "def rand_by_mask(mask): return np.random.choice(np.where(mask)[0], 4, replace=False)\n",
    "def rand_by_correct(is_correct): return rand_by_mask((preds == data.val_y)==is_correct)"
   ]
  },
  {
   "cell_type": "code",
   "execution_count": null,
   "metadata": {
    "hidden": true
   },
   "outputs": [],
   "source": [
    "def plot_val_with_title(idxs, title):\n",
    "    imgs = np.stack([data.val_ds[x][0] for x in idxs])\n",
    "    title_probs = [probs[x] for x in idxs]\n",
    "    print(title)\n",
    "    return plots(data.val_ds.denorm(imgs), rows=1, titles=title_probs)"
   ]
  },
  {
   "cell_type": "code",
   "execution_count": null,
   "metadata": {
    "hidden": true
   },
   "outputs": [],
   "source": [
    "def plots(ims, figsize=(12,6), rows=1, titles=None):\n",
    "    f = plt.figure(figsize=figsize)\n",
    "    for i in range(len(ims)):\n",
    "        sp = f.add_subplot(rows, len(ims)//rows, i+1)\n",
    "        sp.axis('Off')\n",
    "        if titles is not None: sp.set_title(titles[i], fontsize=16)\n",
    "        plt.imshow(ims[i])"
   ]
  },
  {
   "cell_type": "code",
   "execution_count": null,
   "metadata": {
    "hidden": true
   },
   "outputs": [],
   "source": [
    "def load_img_id(ds, idx): return np.array(PIL.Image.open(PATH+ds.fnames[idx]))\n",
    "\n",
    "def plot_val_with_title(idxs, title):\n",
    "    imgs = [load_img_id(data.val_ds,x) for x in idxs]\n",
    "    title_probs = [probs[x] for x in idxs]\n",
    "    print(title)\n",
    "    return plots(imgs, rows=1, titles=title_probs, figsize=(16,8))"
   ]
  },
  {
   "cell_type": "code",
   "execution_count": null,
   "metadata": {
    "hidden": true
   },
   "outputs": [],
   "source": [
    "# 1. A few correct labels at random\n",
    "plot_val_with_title(rand_by_correct(True), \"Correctly classified\")"
   ]
  },
  {
   "cell_type": "code",
   "execution_count": null,
   "metadata": {
    "hidden": true
   },
   "outputs": [],
   "source": [
    "# 2. A few incorrect labels at random\n",
    "plot_val_with_title(rand_by_correct(False), \"Incorrectly classified\")"
   ]
  },
  {
   "cell_type": "code",
   "execution_count": null,
   "metadata": {
    "hidden": true
   },
   "outputs": [],
   "source": [
    "def most_by_mask(mask, mult):\n",
    "    idxs = np.where(mask)[0]\n",
    "    return idxs[np.argsort(mult * probs[idxs])[:4]]\n",
    "\n",
    "def most_by_correct(y, is_correct): \n",
    "    mult = -1 if (y==1)==is_correct else 1\n",
    "    return most_by_mask(((preds == data.val_y)==is_correct) & (data.val_y == y), mult)"
   ]
  },
  {
   "cell_type": "code",
   "execution_count": null,
   "metadata": {
    "hidden": true
   },
   "outputs": [],
   "source": [
    "plot_val_with_title(most_by_correct(0, True), \"Most correct cats\")"
   ]
  },
  {
   "cell_type": "code",
   "execution_count": null,
   "metadata": {
    "hidden": true
   },
   "outputs": [],
   "source": [
    "plot_val_with_title(most_by_correct(1, True), \"Most correct dogs\")"
   ]
  },
  {
   "cell_type": "code",
   "execution_count": null,
   "metadata": {
    "hidden": true
   },
   "outputs": [],
   "source": [
    "plot_val_with_title(most_by_correct(0, False), \"Most incorrect cats\")"
   ]
  },
  {
   "cell_type": "code",
   "execution_count": null,
   "metadata": {
    "hidden": true
   },
   "outputs": [],
   "source": [
    "plot_val_with_title(most_by_correct(1, False), \"Most incorrect dogs\")"
   ]
  },
  {
   "cell_type": "code",
   "execution_count": null,
   "metadata": {
    "hidden": true
   },
   "outputs": [],
   "source": [
    "most_uncertain = np.argsort(np.abs(probs -0.5))[:4]\n",
    "plot_val_with_title(most_uncertain, \"Most uncertain predictions\")"
   ]
  },
  {
   "cell_type": "markdown",
   "metadata": {
    "heading_collapsed": true
   },
   "source": [
    "## Choosing a learning rate"
   ]
  },
  {
   "cell_type": "markdown",
   "metadata": {
    "hidden": true
   },
   "source": [
    "The *learning rate* determines how quickly or how slowly you want to update the *weights* (or *parameters*). Learning rate is one of the most difficult parameters to set, because it significantly affect model performance.\n",
    "\n",
    "The method `learn.lr_find()` helps you find an optimal learning rate. It uses the technique developed in the 2015 paper [Cyclical Learning Rates for Training Neural Networks](http://arxiv.org/abs/1506.01186), where we simply keep increasing the learning rate from a very small value, until the loss stops decreasing. We can plot the learning rate across batches to see what this looks like.\n",
    "\n",
    "We first create a new learner, since we want to know how to set the learning rate for a new (untrained) model."
   ]
  },
  {
   "cell_type": "code",
   "execution_count": null,
   "metadata": {
    "hidden": true
   },
   "outputs": [],
   "source": [
    "learn = ConvLearner.pretrained(arch, data, precompute=True)"
   ]
  },
  {
   "cell_type": "code",
   "execution_count": null,
   "metadata": {
    "hidden": true,
    "scrolled": true
   },
   "outputs": [],
   "source": [
    "lrf=learn.lr_find()"
   ]
  },
  {
   "cell_type": "markdown",
   "metadata": {
    "hidden": true
   },
   "source": [
    "Our `learn` object contains an attribute `sched` that contains our learning rate scheduler, and has some convenient plotting functionality including this one:"
   ]
  },
  {
   "cell_type": "code",
   "execution_count": null,
   "metadata": {
    "hidden": true
   },
   "outputs": [],
   "source": [
    "learn.sched.plot_lr()"
   ]
  },
  {
   "cell_type": "markdown",
   "metadata": {
    "hidden": true
   },
   "source": [
    "Note that in the previous plot *iteration* is one iteration (or *minibatch*) of SGD. In one epoch there are \n",
    "(num_train_samples/num_iterations) of SGD.\n",
    "\n",
    "We can see the plot of loss versus learning rate to see where our loss stops decreasing:"
   ]
  },
  {
   "cell_type": "code",
   "execution_count": null,
   "metadata": {
    "hidden": true
   },
   "outputs": [],
   "source": [
    "learn.sched.plot()"
   ]
  },
  {
   "cell_type": "markdown",
   "metadata": {
    "hidden": true
   },
   "source": [
    "The loss is still clearly improving at lr=1e-2 (0.01), so that's what we use. Note that the optimal learning rate can change as we training the model, so you may want to re-run this function from time to time."
   ]
  },
  {
   "cell_type": "markdown",
   "metadata": {},
   "source": [
    "## Improving our model"
   ]
  },
  {
   "cell_type": "markdown",
   "metadata": {
    "heading_collapsed": true
   },
   "source": [
    "### Data augmentation"
   ]
  },
  {
   "cell_type": "markdown",
   "metadata": {
    "hidden": true
   },
   "source": [
    "If you try training for more epochs, you'll notice that we start to *overfit*, which means that our model is learning to recognize the specific images in the training set, rather than generalizing such that we also get good results on the validation set. One way to fix this is to effectively create more data, through *data augmentation*. This refers to randomly changing the images in ways that shouldn't impact their interpretation, such as horizontal flipping, zooming, and rotating.\n",
    "\n",
    "We can do this by passing `aug_tfms` (*augmentation transforms*) to `tfms_from_model`, with a list of functions to apply that randomly change the image however we wish. For photos that are largely taken from the side (e.g. most photos of dogs and cats, as opposed to photos taken from the top down, such as satellite imagery) we can use the pre-defined list of functions `transforms_side_on`. We can also specify random zooming of images up to specified scale by adding the `max_zoom` parameter."
   ]
  },
  {
   "cell_type": "code",
   "execution_count": null,
   "metadata": {
    "hidden": true
   },
   "outputs": [],
   "source": [
    "tfms = tfms_from_model(resnet34, sz, aug_tfms=transforms_side_on, max_zoom=1.1)"
   ]
  },
  {
   "cell_type": "code",
   "execution_count": null,
   "metadata": {
    "hidden": true
   },
   "outputs": [],
   "source": [
    "def get_augs():\n",
    "    data = ImageClassifierData.from_paths(PATH, bs=2, tfms=tfms, num_workers=1)\n",
    "    x,_ = next(iter(data.aug_dl))\n",
    "    return data.trn_ds.denorm(x)[1]"
   ]
  },
  {
   "cell_type": "code",
   "execution_count": null,
   "metadata": {
    "hidden": true
   },
   "outputs": [],
   "source": [
    "ims = np.stack([get_augs() for i in range(6)])"
   ]
  },
  {
   "cell_type": "code",
   "execution_count": null,
   "metadata": {
    "hidden": true
   },
   "outputs": [],
   "source": [
    "plots(ims, rows=2)"
   ]
  },
  {
   "cell_type": "markdown",
   "metadata": {
    "hidden": true
   },
   "source": [
    "Let's create a new `data` object that includes this augmentation in the transforms."
   ]
  },
  {
   "cell_type": "code",
   "execution_count": null,
   "metadata": {
    "hidden": true
   },
   "outputs": [],
   "source": [
    "data = ImageClassifierData.from_paths(PATH, tfms=tfms)\n",
    "learn = ConvLearner.pretrained(arch, data, precompute=True)"
   ]
  },
  {
   "cell_type": "code",
   "execution_count": null,
   "metadata": {
    "hidden": true,
    "scrolled": false
   },
   "outputs": [],
   "source": [
    "learn.fit(1e-2, 1)"
   ]
  },
  {
   "cell_type": "code",
   "execution_count": null,
   "metadata": {
    "hidden": true
   },
   "outputs": [],
   "source": [
    "learn.precompute=False"
   ]
  },
  {
   "cell_type": "markdown",
   "metadata": {
    "hidden": true
   },
   "source": [
    "By default when we create a learner, it sets all but the last layer to *frozen*. That means that it's still only updating the weights in the last layer when we call `fit`."
   ]
  },
  {
   "cell_type": "code",
   "execution_count": null,
   "metadata": {
    "hidden": true,
    "scrolled": false
   },
   "outputs": [],
   "source": [
    "learn.fit(1e-2, 3, cycle_len=1)"
   ]
  },
  {
   "cell_type": "markdown",
   "metadata": {
    "hidden": true
   },
   "source": [
    "What is that `cycle_len` parameter? What we've done here is used a technique called *stochastic gradient descent with restarts (SGDR)*, a variant of *learning rate annealing*, which gradually decreases the learning rate as training progresses. This is helpful because as we get closer to the optimal weights, we want to take smaller steps.\n",
    "\n",
    "However, we may find ourselves in a part of the weight space that isn't very resilient - that is, small changes to the weights may result in big changes to the loss. We want to encourage our model to find parts of the weight space that are both accurate and stable. Therefore, from time to time we increase the learning rate (this is the 'restarts' in 'SGDR'), which will force the model to jump to a different part of the weight space if the current area is \"spikey\". Here's a picture of how that might look if we reset the learning rates 3 times (in this paper they call it a \"cyclic LR schedule\"):\n",
    "\n",
    "<img src=\"images/sgdr.png\" width=\"80%\">\n",
    "(From the paper [Snapshot Ensembles](https://arxiv.org/abs/1704.00109)).\n",
    "\n",
    "The number of epochs between resetting the learning rate is set by `cycle_len`, and the number of times this happens is refered to as the *number of cycles*, and is what we're actually passing as the 2nd parameter to `fit()`. So here's what our actual learning rates looked like:"
   ]
  },
  {
   "cell_type": "code",
   "execution_count": null,
   "metadata": {
    "hidden": true
   },
   "outputs": [],
   "source": [
    "learn.sched.plot_lr()"
   ]
  },
  {
   "cell_type": "markdown",
   "metadata": {
    "hidden": true
   },
   "source": [
    "Our validation loss isn't improving much, so there's probably no point further training the last layer on its own."
   ]
  },
  {
   "cell_type": "markdown",
   "metadata": {
    "hidden": true
   },
   "source": [
    "Since we've got a pretty good model at this point, we might want to save it so we can load it again later without training it from scratch."
   ]
  },
  {
   "cell_type": "code",
   "execution_count": null,
   "metadata": {
    "hidden": true
   },
   "outputs": [],
   "source": [
    "learn.save('224_lastlayer')"
   ]
  },
  {
   "cell_type": "code",
   "execution_count": null,
   "metadata": {
    "hidden": true
   },
   "outputs": [],
   "source": [
    "learn.load('224_lastlayer')"
   ]
  },
  {
   "cell_type": "markdown",
   "metadata": {
    "heading_collapsed": true
   },
   "source": [
    "### Fine-tuning and differential learning rate annealing"
   ]
  },
  {
   "cell_type": "markdown",
   "metadata": {
    "hidden": true
   },
   "source": [
    "Now that we have a good final layer trained, we can try fine-tuning the other layers. To tell the learner that we want to unfreeze the remaining layers, just call (surprise surprise!) `unfreeze()`."
   ]
  },
  {
   "cell_type": "code",
   "execution_count": null,
   "metadata": {
    "hidden": true
   },
   "outputs": [],
   "source": [
    "learn.unfreeze()"
   ]
  },
  {
   "cell_type": "markdown",
   "metadata": {
    "hidden": true
   },
   "source": [
    "Note that the other layers have *already* been trained to recognize imagenet photos (whereas our final layers where randomly initialized), so we want to be careful of not destroying the carefully tuned weights that are already there.\n",
    "\n",
    "Generally speaking, the earlier layers (as we've seen) have more general-purpose features. Therefore we would expect them to need less fine-tuning for new datasets. For this reason we will use different learning rates for different layers: the first few layers will be at 1e-4, the middle layers at 1e-3, and our FC layers we'll leave at 1e-2 as before. We refer to this as *differential learning rates*, although there's no standard name for this techique in the literature that we're aware of."
   ]
  },
  {
   "cell_type": "code",
   "execution_count": null,
   "metadata": {
    "hidden": true
   },
   "outputs": [],
   "source": [
    "lr=np.array([1e-4,1e-3,1e-2])"
   ]
  },
  {
   "cell_type": "code",
   "execution_count": null,
   "metadata": {
    "hidden": true,
    "scrolled": false
   },
   "outputs": [],
   "source": [
    "learn.fit(lr, 3, cycle_len=1, cycle_mult=2)"
   ]
  },
  {
   "cell_type": "markdown",
   "metadata": {
    "hidden": true
   },
   "source": [
    "Another trick we've used here is adding the `cycle_mult` parameter. Take a look at the following chart, and see if you can figure out what the parameter is doing:"
   ]
  },
  {
   "cell_type": "code",
   "execution_count": null,
   "metadata": {
    "hidden": true
   },
   "outputs": [],
   "source": [
    "learn.sched.plot_lr()"
   ]
  },
  {
   "cell_type": "markdown",
   "metadata": {
    "hidden": true
   },
   "source": [
    "Note that's what being plotted above is the learning rate of the *final layers*. The learning rates of the earlier layers are fixed at the same multiples of the final layer rates as we initially requested (i.e. the first layers have 100x smaller, and middle layers 10x smaller learning rates, since we set `lr=np.array([1e-4,1e-3,1e-2])`."
   ]
  },
  {
   "cell_type": "code",
   "execution_count": null,
   "metadata": {
    "hidden": true
   },
   "outputs": [],
   "source": [
    "learn.save('224_all')"
   ]
  },
  {
   "cell_type": "code",
   "execution_count": null,
   "metadata": {
    "hidden": true
   },
   "outputs": [],
   "source": [
    "learn.load('224_all')"
   ]
  },
  {
   "cell_type": "markdown",
   "metadata": {
    "hidden": true
   },
   "source": [
    "There is something else we can do with data augmentation: use it at *inference* time (also known as *test* time). Not surprisingly, this is known as *test time augmentation*, or just *TTA*.\n",
    "\n",
    "TTA simply makes predictions not just on the images in your validation set, but also makes predictions on a number of randomly augmented versions of them too (by default, it uses the original image along with 4 randomly augmented versions). It then takes the average prediction from these images, and uses that. To use TTA on the validation set, we can use the learner's `TTA()` method."
   ]
  },
  {
   "cell_type": "code",
   "execution_count": null,
   "metadata": {
    "hidden": true
   },
   "outputs": [],
   "source": [
    "log_preds,y = learn.TTA()\n",
    "probs = np.mean(np.exp(log_preds),0)"
   ]
  },
  {
   "cell_type": "code",
   "execution_count": null,
   "metadata": {
    "hidden": true
   },
   "outputs": [],
   "source": [
    "accuracy_np(probs, y)"
   ]
  },
  {
   "cell_type": "markdown",
   "metadata": {
    "hidden": true
   },
   "source": [
    "I generally see about a 10-20% reduction in error on this dataset when using TTA at this point, which is an amazing result for such a quick and easy technique!"
   ]
  },
  {
   "cell_type": "markdown",
   "metadata": {},
   "source": [
    "## Analyzing results"
   ]
  },
  {
   "cell_type": "markdown",
   "metadata": {
    "heading_collapsed": true
   },
   "source": [
    "### Confusion matrix "
   ]
  },
  {
   "cell_type": "code",
   "execution_count": null,
   "metadata": {
    "hidden": true
   },
   "outputs": [],
   "source": [
    "preds = np.argmax(probs, axis=1)\n",
    "probs = probs[:,1]"
   ]
  },
  {
   "cell_type": "markdown",
   "metadata": {
    "hidden": true
   },
   "source": [
    "A common way to analyze the result of a classification model is to use a [confusion matrix](http://www.dataschool.io/simple-guide-to-confusion-matrix-terminology/). Scikit-learn has a convenient function we can use for this purpose:"
   ]
  },
  {
   "cell_type": "code",
   "execution_count": null,
   "metadata": {
    "hidden": true
   },
   "outputs": [],
   "source": [
    "from sklearn.metrics import confusion_matrix\n",
    "cm = confusion_matrix(y, preds)"
   ]
  },
  {
   "cell_type": "markdown",
   "metadata": {
    "hidden": true
   },
   "source": [
    "We can just print out the confusion matrix, or we can show a graphical view (which is mainly useful for dependents with a larger number of categories)."
   ]
  },
  {
   "cell_type": "code",
   "execution_count": null,
   "metadata": {
    "hidden": true
   },
   "outputs": [],
   "source": [
    "plot_confusion_matrix(cm, data.classes)"
   ]
  },
  {
   "cell_type": "markdown",
   "metadata": {
    "heading_collapsed": true
   },
   "source": [
    "### Looking at pictures again"
   ]
  },
  {
   "cell_type": "code",
   "execution_count": null,
   "metadata": {
    "hidden": true
   },
   "outputs": [],
   "source": [
    "plot_val_with_title(most_by_correct(0, False), \"Most incorrect cats\")"
   ]
  },
  {
   "cell_type": "code",
   "execution_count": null,
   "metadata": {
    "hidden": true
   },
   "outputs": [],
   "source": [
    "plot_val_with_title(most_by_correct(1, False), \"Most incorrect dogs\")"
   ]
  },
  {
   "cell_type": "markdown",
   "metadata": {
    "heading_collapsed": true
   },
   "source": [
    "## Review: easy steps to train a world-class image classifier"
   ]
  },
  {
   "cell_type": "markdown",
   "metadata": {
    "hidden": true
   },
   "source": [
    "1. Enable data augmentation, and precompute=True\n",
    "1. Use `lr_find()` to find highest learning rate where loss is still clearly improving\n",
    "1. Train last layer from precomputed activations for 1-2 epochs\n",
    "1. Train last layer with data augmentation (i.e. precompute=False) for 2-3 epochs with cycle_len=1\n",
    "1. Unfreeze all layers\n",
    "1. Set earlier layers to 3x-10x lower learning rate than next higher layer\n",
    "1. Use `lr_find()` again\n",
    "1. Train full network with cycle_mult=2 until over-fitting"
   ]
  },
  {
   "cell_type": "markdown",
   "metadata": {
    "heading_collapsed": true
   },
   "source": [
    "## Understanding the code for our first model"
   ]
  },
  {
   "cell_type": "markdown",
   "metadata": {
    "hidden": true
   },
   "source": [
    "Let's look at the Dogs v Cats code line by line.\n",
    "\n",
    "**tfms** stands for *transformations*. `tfms_from_model` takes care of resizing, image cropping, initial normalization (creating data with (mean,stdev) of (0,1)), and more."
   ]
  },
  {
   "cell_type": "code",
   "execution_count": null,
   "metadata": {
    "hidden": true,
    "scrolled": true
   },
   "outputs": [],
   "source": [
    "tfms = tfms_from_model(resnet34, sz)"
   ]
  },
  {
   "cell_type": "markdown",
   "metadata": {
    "hidden": true
   },
   "source": [
    "We need a <b>path</b> that points to the dataset. In this path we will also store temporary data and final results. `ImageClassifierData.from_paths` reads data from a provided path and creates a dataset ready for training."
   ]
  },
  {
   "cell_type": "code",
   "execution_count": null,
   "metadata": {
    "hidden": true
   },
   "outputs": [],
   "source": [
    "data = ImageClassifierData.from_paths(PATH, tfms=tfms)"
   ]
  },
  {
   "cell_type": "markdown",
   "metadata": {
    "hidden": true
   },
   "source": [
    "`ConvLearner.pretrained` builds *learner* that contains a pre-trained model. The last layer of the model needs to be replaced with the layer of the right dimensions. The pretained model was trained for 1000 classes therfore the final layer predicts a vector of 1000 probabilities. The model for cats and dogs needs to output a two dimensional vector. The diagram below shows in an example how this was done in one of the earliest successful CNNs. The layer \"FC8\" here would get replaced with a new layer with 2 outputs.\n",
    "\n",
    "<img src=\"images/pretrained.png\" width=\"500\">\n",
    "[original image](https://image.slidesharecdn.com/practicaldeeplearning-160329181459/95/practical-deep-learning-16-638.jpg)"
   ]
  },
  {
   "cell_type": "code",
   "execution_count": null,
   "metadata": {
    "hidden": true
   },
   "outputs": [],
   "source": [
    "learn = ConvLearner.pretrained(resnet34, data, precompute=True)"
   ]
  },
  {
   "cell_type": "markdown",
   "metadata": {
    "hidden": true
   },
   "source": [
    "*Parameters*  are learned by fitting a model to the data. *Hyparameters* are another kind of parameter, that cannot be directly learned from the regular training process. These parameters express “higher-level” properties of the model such as its complexity or how fast it should learn. Two examples of hyperparameters are the *learning rate* and the *number of epochs*.\n",
    "\n",
    "During iterative training of a neural network, a *batch* or *mini-batch* is a subset of training samples used in one iteration of Stochastic Gradient Descent (SGD). An *epoch* is a single pass through the entire training set which consists of multiple iterations of SGD.\n",
    "\n",
    "We can now *fit* the model; that is, use *gradient descent* to find the best parameters for the fully connected layer we added, that can separate cat pictures from dog pictures. We need to pass two hyperameters: the *learning rate* (generally 1e-2 or 1e-3 is a good starting point, we'll look more at this next) and the *number of epochs* (you can pass in a higher number and just stop training when you see it's no longer improving, then re-run it with the number of epochs you found works well.)"
   ]
  },
  {
   "cell_type": "code",
   "execution_count": null,
   "metadata": {
    "hidden": true
   },
   "outputs": [],
   "source": [
    "learn.fit(1e-2, 1)"
   ]
  },
  {
   "cell_type": "markdown",
   "metadata": {
    "heading_collapsed": true
   },
   "source": [
    "## Analyzing results: loss and accuracy"
   ]
  },
  {
   "cell_type": "markdown",
   "metadata": {
    "hidden": true
   },
   "source": [
    "When we run `learn.fit` we print 3 performance values (see above.) Here 0.03 is the value of the **loss** in the training set, 0.0226 is the value of the loss in the validation set and 0.9927 is the validation accuracy. What is the loss? What is accuracy? Why not to just show accuracy?\n",
    "\n",
    "**Accuracy** is the ratio of correct prediction to the total number of predictions.\n",
    "\n",
    "In machine learning the **loss** function or cost function is representing the price paid for inaccuracy of predictions.\n",
    "\n",
    "The loss associated with one example in binary classification is given by:\n",
    "`-(y * log(p) + (1-y) * log (1-p))`\n",
    "where `y` is the true label of `x` and `p` is the probability predicted by our model that the label is 1."
   ]
  },
  {
   "cell_type": "code",
   "execution_count": null,
   "metadata": {
    "hidden": true
   },
   "outputs": [],
   "source": [
    "def binary_loss(y, p):\n",
    "    return np.mean(-(y * np.log(p) + (1-y)*np.log(1-p)))"
   ]
  },
  {
   "cell_type": "code",
   "execution_count": null,
   "metadata": {
    "hidden": true
   },
   "outputs": [],
   "source": [
    "acts = np.array([1, 0, 0, 1])\n",
    "preds = np.array([0.9, 0.1, 0.2, 0.8])\n",
    "binary_loss(acts, preds)"
   ]
  },
  {
   "cell_type": "markdown",
   "metadata": {
    "hidden": true
   },
   "source": [
    "Note that in our toy example above our accuracy is 100% and our loss is 0.16. Compare that to a loss of 0.03 that we are getting while predicting cats and dogs. Exercise: play with `preds` to get a lower loss for this example. \n",
    "\n",
    "**Example:** Here is an example on how to compute the loss for one example of binary classification problem. Suppose for an image x with label 1 and your model gives it a prediction of 0.9. For this case the loss should be small because our model is predicting a label $1$ with high probability.\n",
    "\n",
    "`loss = -log(0.9) = 0.10`\n",
    "\n",
    "Now suppose x has label 0 but our model is predicting 0.9. In this case our loss should be much larger.\n",
    "\n",
    "loss = -log(1-0.9) = 2.30\n",
    "\n",
    "- Exercise: look at the other cases and convince yourself that this make sense.\n",
    "- Exercise: how would you rewrite `binary_loss` using `if` instead of `*` and `+`?\n",
    "\n",
    "Why not just maximize accuracy? The binary classification loss is an easier function to optimize."
   ]
  },
  {
   "cell_type": "code",
   "execution_count": null,
   "metadata": {
    "hidden": true
   },
   "outputs": [],
   "source": []
  }
 ],
 "metadata": {
  "kernelspec": {
   "display_name": "Python 3",
   "language": "python",
   "name": "python3"
  },
  "language_info": {
   "codemirror_mode": {
    "name": "ipython",
    "version": 3
   },
   "file_extension": ".py",
   "mimetype": "text/x-python",
   "name": "python",
   "nbconvert_exporter": "python",
   "pygments_lexer": "ipython3",
   "version": "3.6.4"
  },
  "toc": {
   "colors": {
    "hover_highlight": "#DAA520",
    "navigate_num": "#000000",
    "navigate_text": "#333333",
    "running_highlight": "#FF0000",
    "selected_highlight": "#FFD700",
    "sidebar_border": "#EEEEEE",
    "wrapper_background": "#FFFFFF"
   },
   "moveMenuLeft": true,
   "nav_menu": {
    "height": "266px",
    "width": "252px"
   },
   "navigate_menu": true,
   "number_sections": true,
   "sideBar": true,
   "threshold": 4,
   "toc_cell": false,
   "toc_section_display": "block",
   "toc_window_display": false,
   "widenNotebook": false
  }
 },
 "nbformat": 4,
 "nbformat_minor": 2
}
